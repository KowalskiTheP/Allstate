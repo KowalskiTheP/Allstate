{
 "cells": [
  {
   "cell_type": "code",
   "execution_count": 1,
   "metadata": {
    "collapsed": false
   },
   "outputs": [
    {
     "name": "stderr",
     "output_type": "stream",
     "text": [
      "/usr/lib64/python2.7/site-packages/sklearn/cross_validation.py:44: DeprecationWarning: This module was deprecated in version 0.18 in favor of the model_selection module into which all the refactored classes and functions are moved. Also note that the interface of the new CV iterators are different from that of this module. This module will be removed in 0.20.\n",
      "  \"This module will be removed in 0.20.\", DeprecationWarning)\n",
      "/usr/lib64/python2.7/site-packages/sklearn/grid_search.py:43: DeprecationWarning: This module was deprecated in version 0.18 in favor of the model_selection module into which all the refactored classes and functions are moved. This module will be removed in 0.20.\n",
      "  DeprecationWarning)\n"
     ]
    },
    {
     "name": "stdout",
     "output_type": "stream",
     "text": [
      "Lets shuffle\n",
      "Länge des letztichen Datensatzes:  434\n",
      "Data managment done!\n"
     ]
    }
   ],
   "source": [
    "import pandas as pd\n",
    "import numpy as np\n",
    "import xgboost as xgb\n",
    "from sklearn.grid_search import GridSearchCV\n",
    "from xgboost.sklearn import XGBRegressor\n",
    "\n",
    "#training_data = \"../Data/train_shuffled_noCat110Cat116_oneHot.csv\"\n",
    "#dataset = pd.read_csv(training_data,delimiter=\",\", header=0, index_col=0)\n",
    "#dataset.drop(['id'], axis=1, inplace=True)\n",
    "\n",
    "#Hier zu mischen und one-hot-encoding einzuführen macht das droppen deutlich einfacher. \n",
    "#Die wegfallenden Kategorien wurden weiter unten ermittelt (cat110 und cat116 wurden schon im vorhinen entfehrnt).\n",
    "dataset = pd.read_csv('../Data/train_noOutliers.csv',delimiter=\",\", header=0)\n",
    "#dataset.drop(['id','cat110','cat116','cat107', 'cat109', 'cat114', 'cat93', 'cat100', 'cat113', 'cat112', 'cat91', 'cat86', 'cat75', 'cat92', 'cat102', 'cat94', 'cat29', 'cat54', 'cat48', 'cat96', 'cat95', 'cat115', 'cat104', 'cat106', 'cat46', 'cat24', 'cat99', 'cat43', 'cat17', 'cat66', 'cat18', 'cat83', 'cat65', 'cat85', 'cat84', 'cat33', 'cat61', 'cat76', 'cat97', 'cat45', 'cat30', 'cat35', 'cat88', 'cat108', 'cat71', 'cat42', 'cat39', 'cat67', 'cat70', 'cat8', 'cat78', 'cat77', 'cat51', 'cat98', 'cat19', 'cat15', 'cat20', 'cat21', 'cat22', 'cat25', 'cat26', 'cat27', 'cat31', 'cat32', 'cat34', 'cat37', 'cat38', 'cat41', 'cat44', 'cat47', 'cat49', 'cat52', 'cat53', 'cat55', 'cat56', 'cat58', 'cat59', 'cat60', 'cat62', 'cat63', 'cat64', 'cat68', 'cat69', 'cat74'], axis=1, inplace=True)\n",
    "dataset.drop(['id','cat110','cat116'], axis=1, inplace=True)\n",
    "print \"Lets shuffle\"\n",
    "dataset = dataset.reindex(np.random.permutation(dataset.index))\n",
    "dataset = pd.get_dummies(dataset, prefix=None, prefix_sep='_', dummy_na=False, columns=None, sparse=False, drop_first=True)\n",
    "\n",
    "#Experiment\n",
    "# Imp=0\n",
    "dataset.drop(['cat22_B', 'cat55_B', 'cat63_B', 'cat74_C', 'cat75_C', 'cat88_B', 'cat89_E', 'cat89_G', 'cat89_I', 'cat90_D', 'cat90_E', 'cat90_F', 'cat90_G', 'cat91_H', 'cat92_C', 'cat92_D', 'cat92_F', 'cat92_I', 'cat94_E', 'cat94_G', 'cat96_B', 'cat96_F', 'cat97_B', 'cat97_F', 'cat99_G', 'cat99_H', 'cat99_I', 'cat99_O', 'cat99_P', 'cat99_R', 'cat99_T', 'cat100_E', 'cat101_B', 'cat101_E', 'cat101_H', 'cat101_K', 'cat101_N', 'cat102_G', 'cat103_K', 'cat103_N', 'cat104_Q', 'cat105_B', 'cat105_P', 'cat105_Q', 'cat105_R', 'cat105_S', 'cat106_B', 'cat106_O', 'cat106_P', 'cat106_R', 'cat107_B', 'cat107_R', 'cat107_S', 'cat107_U', 'cat108_C', 'cat108_F', 'cat108_J', 'cat109_AA', 'cat109_AE', 'cat109_AF', 'cat109_AG', 'cat109_AH', 'cat109_AJ', 'cat109_AK', 'cat109_AN', 'cat109_AO', 'cat109_AP', 'cat109_AQ', 'cat109_AR', 'cat109_AT', 'cat109_AU', 'cat109_AV', 'cat109_AW', 'cat109_AY', 'cat109_B', 'cat109_BA', 'cat109_BC', 'cat109_BE', 'cat109_BF', 'cat109_BG', 'cat109_BK', 'cat109_BM', 'cat109_BN', 'cat109_BP', 'cat109_BR', 'cat109_BS', 'cat109_BT', 'cat109_BV', 'cat109_BY', 'cat109_CB', 'cat109_CC', 'cat109_CE', 'cat109_CF', 'cat109_CG', 'cat109_CH', 'cat109_CI', 'cat109_CJ', 'cat109_CK', 'cat109_CL', 'cat109_H', 'cat109_J', 'cat109_K', 'cat109_O', 'cat109_P', 'cat109_Q', 'cat109_V', 'cat109_ZZ', 'cat111_B', 'cat111_D', 'cat111_F', 'cat111_Q', 'cat111_S', 'cat111_Y', 'cat112_AQ', 'cat112_AW', 'cat112_B', 'cat113_AB', 'cat113_AC', 'cat113_AL', 'cat113_AP', 'cat113_AQ', 'cat113_AR', 'cat113_B', 'cat113_BB', 'cat113_BI', 'cat113_BL', 'cat113_E', 'cat113_G', 'cat113_O', 'cat113_P', 'cat113_T', 'cat113_U', 'cat114_B', 'cat114_D', 'cat114_G', 'cat114_S', 'cat114_W', 'cat114_X', 'cat115_B', 'cat115_C', 'cat115_D', 'cat115_E', 'cat115_W', 'cat115_X'], axis=1, inplace=True)\n",
    "#Imp <= 5\n",
    "#dataset.drop(['cat113_BH', 'cat107_P', 'cat86_B', 'cat64_A', 'cat86_A', 'cat115_H', 'cat113_L', 'cat107_N', 'cat109_D', 'cat95_A', 'cat99_N', 'cat60_A', 'cat99_J', 'cat113_Y', 'cat115_R', 'cat112_M', 'cat86_D', 'cat109_G', 'cat112_Q', 'cat113_BK', 'cat106_D', 'cat112_AO', 'cat112_AX', 'cat109_AL', 'cat98_D', 'cat105_L', 'cat97_E', 'cat109_AR', 'cat88_D', 'cat108_I', 'cat109_BL', 'cat71_A', 'cat112_AC', 'cat112_AE', 'cat77_D', 'cat104_O', 'cat104_C', 'cat108_H', 'cat109_BQ', 'cat97_F', 'cat98_C', 'cat113_BD', 'cat109_K', 'cat113_BN', 'cat109_L', 'cat22_A', 'cat107_Q', 'cat62_A', 'cat96_B', 'cat104_P', 'cat15_A', 'cat20_A', 'cat61_A', 'cat86_C', 'cat88_A', 'cat88_E', 'cat92_C', 'cat92_D', 'cat94_A', 'cat94_G', 'cat96_I', 'cat99_M', 'cat104_A', 'cat106_M', 'cat109_AF', 'cat109_AM', 'cat109_BJ', 'cat109_BK', 'cat109_C', 'cat109_CA', 'cat109_CJ', 'cat109_R', 'cat109_T', 'cat111_Y', 'cat112_AQ', 'cat112_AW', 'cat113_AP', 'cat114_D', 'cat114_V'], axis=1, inplace=True)\n",
    "print \"Länge des letztichen Datensatzes: \", len(dataset.columns)\n",
    "\n",
    "testSize = 0.5 * len(dataset)\n",
    "part = 1\n",
    "final_train = dataset[int((part-1)*testSize):int(part*testSize)]\n",
    "part = 2\n",
    "#final_test = dataset[int((part-1)*testSize):int(part*testSize)]\n",
    "\n",
    "y_train = final_train.pop('loss')\n",
    "#y_test = final_test.pop('loss')\n",
    "#print final_train\n",
    "print \"Data managment done!\""
   ]
  },
  {
   "cell_type": "code",
   "execution_count": 2,
   "metadata": {
    "collapsed": false,
    "scrolled": true
   },
   "outputs": [
    {
     "name": "stdout",
     "output_type": "stream",
     "text": [
      "Fitting 5 folds for each of 7 candidates, totalling 35 fits\n",
      "[CV] gamma=0 .........................................................\n",
      "[CV] ............................ gamma=0, score=-1068.807241 - 1.6min\n",
      "[CV] gamma=0 .........................................................\n"
     ]
    },
    {
     "name": "stderr",
     "output_type": "stream",
     "text": [
      "[Parallel(n_jobs=1)]: Done   1 out of   1 | elapsed:  1.6min remaining:    0.0s\n"
     ]
    },
    {
     "name": "stdout",
     "output_type": "stream",
     "text": [
      "[CV] ............................ gamma=0, score=-1059.947221 - 1.6min\n",
      "[CV] gamma=0 .........................................................\n"
     ]
    },
    {
     "name": "stderr",
     "output_type": "stream",
     "text": [
      "[Parallel(n_jobs=1)]: Done   2 out of   2 | elapsed:  3.2min remaining:    0.0s\n"
     ]
    },
    {
     "name": "stdout",
     "output_type": "stream",
     "text": [
      "[CV] ............................ gamma=0, score=-1063.799466 - 1.6min\n",
      "[CV] gamma=0 .........................................................\n",
      "[CV] ............................ gamma=0, score=-1066.536367 - 1.6min\n",
      "[CV] gamma=0 .........................................................\n",
      "[CV] ............................ gamma=0, score=-1075.326033 - 1.6min\n",
      "[CV] gamma=0.1 .......................................................\n",
      "[CV] .......................... gamma=0.1, score=-1068.807241 - 1.6min\n",
      "[CV] gamma=0.1 .......................................................\n",
      "[CV] .......................... gamma=0.1, score=-1059.947221 - 1.6min\n",
      "[CV] gamma=0.1 .......................................................\n",
      "[CV] .......................... gamma=0.1, score=-1063.799466 - 1.6min\n",
      "[CV] gamma=0.1 .......................................................\n",
      "[CV] .......................... gamma=0.1, score=-1066.536367 - 1.6min\n",
      "[CV] gamma=0.1 .......................................................\n",
      "[CV] .......................... gamma=0.1, score=-1075.326033 - 1.6min\n",
      "[CV] gamma=0.2 .......................................................\n",
      "[CV] .......................... gamma=0.2, score=-1068.807241 - 1.6min\n",
      "[CV] gamma=0.2 .......................................................\n",
      "[CV] .......................... gamma=0.2, score=-1059.947221 - 1.6min\n",
      "[CV] gamma=0.2 .......................................................\n",
      "[CV] .......................... gamma=0.2, score=-1063.799466 - 1.6min\n",
      "[CV] gamma=0.2 .......................................................\n",
      "[CV] .......................... gamma=0.2, score=-1066.536367 - 1.6min\n",
      "[CV] gamma=0.2 .......................................................\n",
      "[CV] .......................... gamma=0.2, score=-1075.326033 - 1.6min\n",
      "[CV] gamma=0.3 .......................................................\n",
      "[CV] .......................... gamma=0.3, score=-1068.807241 - 1.6min\n",
      "[CV] gamma=0.3 .......................................................\n",
      "[CV] .......................... gamma=0.3, score=-1059.947221 - 1.6min\n",
      "[CV] gamma=0.3 .......................................................\n",
      "[CV] .......................... gamma=0.3, score=-1063.799466 - 1.6min\n",
      "[CV] gamma=0.3 .......................................................\n",
      "[CV] .......................... gamma=0.3, score=-1066.536367 - 1.6min\n",
      "[CV] gamma=0.3 .......................................................\n",
      "[CV] .......................... gamma=0.3, score=-1075.326033 - 1.6min\n",
      "[CV] gamma=0.5 .......................................................\n",
      "[CV] .......................... gamma=0.5, score=-1068.807241 - 1.6min\n",
      "[CV] gamma=0.5 .......................................................\n",
      "[CV] .......................... gamma=0.5, score=-1059.947221 - 1.6min\n",
      "[CV] gamma=0.5 .......................................................\n",
      "[CV] .......................... gamma=0.5, score=-1063.799466 - 1.6min\n",
      "[CV] gamma=0.5 .......................................................\n",
      "[CV] .......................... gamma=0.5, score=-1066.536367 - 1.6min\n",
      "[CV] gamma=0.5 .......................................................\n",
      "[CV] .......................... gamma=0.5, score=-1075.326033 - 1.6min\n",
      "[CV] gamma=0.7 .......................................................\n",
      "[CV] .......................... gamma=0.7, score=-1068.807241 - 1.6min\n",
      "[CV] gamma=0.7 .......................................................\n",
      "[CV] .......................... gamma=0.7, score=-1059.947221 - 1.6min\n",
      "[CV] gamma=0.7 .......................................................\n",
      "[CV] .......................... gamma=0.7, score=-1063.799466 - 1.6min\n",
      "[CV] gamma=0.7 .......................................................\n",
      "[CV] .......................... gamma=0.7, score=-1066.536367 - 1.6min\n",
      "[CV] gamma=0.7 .......................................................\n",
      "[CV] .......................... gamma=0.7, score=-1075.326033 - 1.6min\n",
      "[CV] gamma=1.0 .......................................................\n",
      "[CV] .......................... gamma=1.0, score=-1068.807241 - 1.6min\n",
      "[CV] gamma=1.0 .......................................................\n",
      "[CV] .......................... gamma=1.0, score=-1059.947221 - 1.6min\n",
      "[CV] gamma=1.0 .......................................................\n",
      "[CV] .......................... gamma=1.0, score=-1063.799466 - 1.6min\n",
      "[CV] gamma=1.0 .......................................................\n",
      "[CV] .......................... gamma=1.0, score=-1066.536367 - 1.6min\n",
      "[CV] gamma=1.0 .......................................................\n",
      "[CV] .......................... gamma=1.0, score=-1075.326033 - 1.6min\n"
     ]
    },
    {
     "name": "stderr",
     "output_type": "stream",
     "text": [
      "[Parallel(n_jobs=1)]: Done  35 out of  35 | elapsed: 56.3min finished\n"
     ]
    },
    {
     "data": {
      "text/plain": [
       "GridSearchCV(cv=5, error_score='raise',\n",
       "       estimator=XGBRegressor(base_score=0.5, colsample_bylevel=1, colsample_bytree=1, gamma=0,\n",
       "       learning_rate=0.1, max_delta_step=0, max_depth=3,\n",
       "       min_child_weight=7, missing=None, n_estimators=1000, nthread=4,\n",
       "       objective='reg:linear', reg_alpha=0, reg_lambda=1,\n",
       "       scale_pos_weight=1, seed=42, silent=True, subsample=1),\n",
       "       fit_params={}, iid=True, n_jobs=1,\n",
       "       param_grid={'gamma': [0, 0.1, 0.2, 0.3, 0.5, 0.7, 1.0]},\n",
       "       pre_dispatch='2*n_jobs', refit=True,\n",
       "       scoring='neg_mean_absolute_error', verbose=3)"
      ]
     },
     "execution_count": 2,
     "metadata": {},
     "output_type": "execute_result"
    }
   ],
   "source": [
    "#cv_params = {'max_depth': [1,3,5], 'min_child_weight': [1,3,5]}\n",
    "#ind_params = {'learning_rate': 0.1, 'n_estimators': 1000, 'seed':42, 'subsample': 0.8, 'colsample_bytree': 0.8, \n",
    "#             'objective': 'reg:linear'}\n",
    "#optimized_GBM = GridSearchCV(xgb.XGBRegressor(**ind_params), \n",
    "#                            cv_params, \n",
    "#                           scoring = 'neg_mean_absolute_error', \n",
    "#                            cv = 2, \n",
    "#                            n_jobs = -1)\n",
    "\n",
    "#print \"Check 1\"\n",
    "# Optimize for accuracy since that is the metric used in the Adult Data Set notation\n",
    "#optimized_GBM.fit(final_train, y_train)\n",
    "#print \"Check 2\"\n",
    "gsearch1 = GridSearchCV(cv=5, \n",
    "             error_score='raise', \n",
    "             estimator= XGBRegressor(max_depth=3, \n",
    "                                     learning_rate=0.1, \n",
    "                                     n_estimators=1000, \n",
    "                                     silent=True, \n",
    "                                     objective='reg:linear', \n",
    "                                     nthread=4, \n",
    "                                     gamma=0, \n",
    "                                     min_child_weight=7, \n",
    "                                     max_delta_step=0, \n",
    "                                     subsample=1, \n",
    "                                     colsample_bytree=1, \n",
    "                                     colsample_bylevel=1, \n",
    "                                     reg_alpha=0, \n",
    "                                     reg_lambda=1, \n",
    "                                     scale_pos_weight=1, \n",
    "                                     base_score=0.5, \n",
    "                                     seed=42, \n",
    "                                     missing=None),\n",
    "             fit_params={}, \n",
    "             iid=True, \n",
    "             n_jobs=1,\n",
    "             param_grid={'gamma': [0,0.1,0.2,0.3,0.5,0.7,1.]},\n",
    "             #pre_dispatch='2*n_jobs', \n",
    "             #pre_dispatch=2, \n",
    "             refit=True, \n",
    "             scoring='neg_mean_absolute_error', \n",
    "             verbose=3)\n",
    "\n",
    "gsearch1.fit(final_train,y_train)\n",
    "\n",
    "\n"
   ]
  },
  {
   "cell_type": "code",
   "execution_count": 3,
   "metadata": {
    "collapsed": false,
    "scrolled": true
   },
   "outputs": [
    {
     "name": "stdout",
     "output_type": "stream",
     "text": [
      "Fitting 5 folds for each of 25 candidates, totalling 125 fits\n",
      "[CV] subsample=0.1, colsample_bytree=0.1 .............................\n",
      "[CV]  subsample=0.1, colsample_bytree=0.1, score=-1115.804061 -  23.6s\n",
      "[CV] subsample=0.1, colsample_bytree=0.1 .............................\n"
     ]
    },
    {
     "name": "stderr",
     "output_type": "stream",
     "text": [
      "[Parallel(n_jobs=1)]: Done   1 out of   1 | elapsed:   23.6s remaining:    0.0s\n"
     ]
    },
    {
     "name": "stdout",
     "output_type": "stream",
     "text": [
      "[CV]  subsample=0.1, colsample_bytree=0.1, score=-1109.532724 -  23.5s\n",
      "[CV] subsample=0.1, colsample_bytree=0.1 .............................\n"
     ]
    },
    {
     "name": "stderr",
     "output_type": "stream",
     "text": [
      "[Parallel(n_jobs=1)]: Done   2 out of   2 | elapsed:   47.1s remaining:    0.0s\n"
     ]
    },
    {
     "name": "stdout",
     "output_type": "stream",
     "text": [
      "[CV]  subsample=0.1, colsample_bytree=0.1, score=-1099.383468 -  23.6s\n",
      "[CV] subsample=0.1, colsample_bytree=0.1 .............................\n",
      "[CV]  subsample=0.1, colsample_bytree=0.1, score=-1114.178171 -  23.4s\n",
      "[CV] subsample=0.1, colsample_bytree=0.1 .............................\n",
      "[CV]  subsample=0.1, colsample_bytree=0.1, score=-1114.313092 -  23.6s\n",
      "[CV] subsample=0.3, colsample_bytree=0.1 .............................\n",
      "[CV]  subsample=0.3, colsample_bytree=0.1, score=-1082.278041 -  31.8s\n",
      "[CV] subsample=0.3, colsample_bytree=0.1 .............................\n",
      "[CV]  subsample=0.3, colsample_bytree=0.1, score=-1077.105000 -  31.6s\n",
      "[CV] subsample=0.3, colsample_bytree=0.1 .............................\n",
      "[CV]  subsample=0.3, colsample_bytree=0.1, score=-1072.986057 -  31.6s\n",
      "[CV] subsample=0.3, colsample_bytree=0.1 .............................\n",
      "[CV]  subsample=0.3, colsample_bytree=0.1, score=-1082.202756 -  31.6s\n",
      "[CV] subsample=0.3, colsample_bytree=0.1 .............................\n",
      "[CV]  subsample=0.3, colsample_bytree=0.1, score=-1083.664350 -  31.8s\n",
      "[CV] subsample=0.5, colsample_bytree=0.1 .............................\n",
      "[CV]  subsample=0.5, colsample_bytree=0.1, score=-1073.787300 -  36.8s\n",
      "[CV] subsample=0.5, colsample_bytree=0.1 .............................\n",
      "[CV]  subsample=0.5, colsample_bytree=0.1, score=-1064.814987 -  36.6s\n",
      "[CV] subsample=0.5, colsample_bytree=0.1 .............................\n",
      "[CV]  subsample=0.5, colsample_bytree=0.1, score=-1064.686248 -  36.6s\n",
      "[CV] subsample=0.5, colsample_bytree=0.1 .............................\n",
      "[CV]  subsample=0.5, colsample_bytree=0.1, score=-1072.464931 -  36.8s\n",
      "[CV] subsample=0.5, colsample_bytree=0.1 .............................\n",
      "[CV]  subsample=0.5, colsample_bytree=0.1, score=-1072.825651 -  36.6s\n",
      "[CV] subsample=0.7, colsample_bytree=0.1 .............................\n",
      "[CV]  subsample=0.7, colsample_bytree=0.1, score=-1069.882165 -  33.7s\n",
      "[CV] subsample=0.7, colsample_bytree=0.1 .............................\n",
      "[CV]  subsample=0.7, colsample_bytree=0.1, score=-1062.034185 -  33.6s\n",
      "[CV] subsample=0.7, colsample_bytree=0.1 .............................\n",
      "[CV]  subsample=0.7, colsample_bytree=0.1, score=-1063.084176 -  33.6s\n",
      "[CV] subsample=0.7, colsample_bytree=0.1 .............................\n",
      "[CV]  subsample=0.7, colsample_bytree=0.1, score=-1066.950644 -  33.7s\n",
      "[CV] subsample=0.7, colsample_bytree=0.1 .............................\n",
      "[CV]  subsample=0.7, colsample_bytree=0.1, score=-1071.547021 -  33.6s\n",
      "[CV] subsample=1.0, colsample_bytree=0.1 .............................\n",
      "[CV]  subsample=1.0, colsample_bytree=0.1, score=-1065.961515 -  27.1s\n",
      "[CV] subsample=1.0, colsample_bytree=0.1 .............................\n",
      "[CV]  subsample=1.0, colsample_bytree=0.1, score=-1060.322793 -  27.1s\n",
      "[CV] subsample=1.0, colsample_bytree=0.1 .............................\n",
      "[CV]  subsample=1.0, colsample_bytree=0.1, score=-1061.567695 -  27.2s\n",
      "[CV] subsample=1.0, colsample_bytree=0.1 .............................\n",
      "[CV]  subsample=1.0, colsample_bytree=0.1, score=-1065.378095 -  27.1s\n",
      "[CV] subsample=1.0, colsample_bytree=0.1 .............................\n",
      "[CV]  subsample=1.0, colsample_bytree=0.1, score=-1069.891613 -  27.2s\n",
      "[CV] subsample=0.1, colsample_bytree=0.3 .............................\n",
      "[CV]  subsample=0.1, colsample_bytree=0.3, score=-1122.546930 -  43.0s\n",
      "[CV] subsample=0.1, colsample_bytree=0.3 .............................\n",
      "[CV]  subsample=0.1, colsample_bytree=0.3, score=-1116.390742 -  42.9s\n",
      "[CV] subsample=0.1, colsample_bytree=0.3 .............................\n",
      "[CV]  subsample=0.1, colsample_bytree=0.3, score=-1107.866609 -  42.9s\n",
      "[CV] subsample=0.1, colsample_bytree=0.3 .............................\n",
      "[CV]  subsample=0.1, colsample_bytree=0.3, score=-1116.035994 -  42.9s\n",
      "[CV] subsample=0.1, colsample_bytree=0.3 .............................\n",
      "[CV]  subsample=0.1, colsample_bytree=0.3, score=-1125.306397 -  43.0s\n",
      "[CV] subsample=0.3, colsample_bytree=0.3 .............................\n",
      "[CV]  subsample=0.3, colsample_bytree=0.3, score=-1079.374986 - 1.1min\n",
      "[CV] subsample=0.3, colsample_bytree=0.3 .............................\n",
      "[CV]  subsample=0.3, colsample_bytree=0.3, score=-1075.147335 - 1.1min\n",
      "[CV] subsample=0.3, colsample_bytree=0.3 .............................\n",
      "[CV]  subsample=0.3, colsample_bytree=0.3, score=-1077.465806 - 1.1min\n",
      "[CV] subsample=0.3, colsample_bytree=0.3 .............................\n",
      "[CV]  subsample=0.3, colsample_bytree=0.3, score=-1079.505399 - 1.1min\n",
      "[CV] subsample=0.3, colsample_bytree=0.3 .............................\n",
      "[CV]  subsample=0.3, colsample_bytree=0.3, score=-1090.379114 - 1.1min\n",
      "[CV] subsample=0.5, colsample_bytree=0.3 .............................\n",
      "[CV]  subsample=0.5, colsample_bytree=0.3, score=-1069.793499 - 1.3min\n",
      "[CV] subsample=0.5, colsample_bytree=0.3 .............................\n",
      "[CV]  subsample=0.5, colsample_bytree=0.3, score=-1068.645939 - 1.3min\n",
      "[CV] subsample=0.5, colsample_bytree=0.3 .............................\n",
      "[CV]  subsample=0.5, colsample_bytree=0.3, score=-1068.154504 - 1.3min\n",
      "[CV] subsample=0.5, colsample_bytree=0.3 .............................\n",
      "[CV]  subsample=0.5, colsample_bytree=0.3, score=-1068.811593 - 1.3min\n",
      "[CV] subsample=0.5, colsample_bytree=0.3 .............................\n",
      "[CV]  subsample=0.5, colsample_bytree=0.3, score=-1077.241635 - 1.3min\n",
      "[CV] subsample=0.7, colsample_bytree=0.3 .............................\n",
      "[CV]  subsample=0.7, colsample_bytree=0.3, score=-1066.984425 - 1.2min\n",
      "[CV] subsample=0.7, colsample_bytree=0.3 .............................\n",
      "[CV]  subsample=0.7, colsample_bytree=0.3, score=-1059.360677 - 1.2min\n",
      "[CV] subsample=0.7, colsample_bytree=0.3 .............................\n",
      "[CV]  subsample=0.7, colsample_bytree=0.3, score=-1062.419033 - 1.2min\n",
      "[CV] subsample=0.7, colsample_bytree=0.3 .............................\n",
      "[CV]  subsample=0.7, colsample_bytree=0.3, score=-1064.820259 - 1.2min\n",
      "[CV] subsample=0.7, colsample_bytree=0.3 .............................\n",
      "[CV]  subsample=0.7, colsample_bytree=0.3, score=-1070.897649 - 1.2min\n",
      "[CV] subsample=1.0, colsample_bytree=0.3 .............................\n",
      "[CV]  subsample=1.0, colsample_bytree=0.3, score=-1063.243811 -  54.8s\n",
      "[CV] subsample=1.0, colsample_bytree=0.3 .............................\n",
      "[CV]  subsample=1.0, colsample_bytree=0.3, score=-1055.314880 -  54.8s\n",
      "[CV] subsample=1.0, colsample_bytree=0.3 .............................\n",
      "[CV]  subsample=1.0, colsample_bytree=0.3, score=-1058.702743 -  54.9s\n",
      "[CV] subsample=1.0, colsample_bytree=0.3 .............................\n",
      "[CV]  subsample=1.0, colsample_bytree=0.3, score=-1061.950470 -  54.8s\n",
      "[CV] subsample=1.0, colsample_bytree=0.3 .............................\n",
      "[CV]  subsample=1.0, colsample_bytree=0.3, score=-1067.585790 -  54.9s\n",
      "[CV] subsample=0.1, colsample_bytree=0.5 .............................\n",
      "[CV]  subsample=0.1, colsample_bytree=0.5, score=-1116.345285 - 1.0min\n",
      "[CV] subsample=0.1, colsample_bytree=0.5 .............................\n",
      "[CV]  subsample=0.1, colsample_bytree=0.5, score=-1118.822097 - 1.0min\n",
      "[CV] subsample=0.1, colsample_bytree=0.5 .............................\n",
      "[CV]  subsample=0.1, colsample_bytree=0.5, score=-1114.406903 - 1.0min\n",
      "[CV] subsample=0.1, colsample_bytree=0.5 .............................\n",
      "[CV]  subsample=0.1, colsample_bytree=0.5, score=-1116.154383 - 1.0min\n",
      "[CV] subsample=0.1, colsample_bytree=0.5 .............................\n",
      "[CV]  subsample=0.1, colsample_bytree=0.5, score=-1126.424151 - 1.0min\n",
      "[CV] subsample=0.3, colsample_bytree=0.5 .............................\n",
      "[CV]  subsample=0.3, colsample_bytree=0.5, score=-1082.263733 - 1.7min\n",
      "[CV] subsample=0.3, colsample_bytree=0.5 .............................\n",
      "[CV]  subsample=0.3, colsample_bytree=0.5, score=-1073.839770 - 1.7min\n",
      "[CV] subsample=0.3, colsample_bytree=0.5 .............................\n",
      "[CV]  subsample=0.3, colsample_bytree=0.5, score=-1077.869381 - 1.7min\n",
      "[CV] subsample=0.3, colsample_bytree=0.5 .............................\n",
      "[CV]  subsample=0.3, colsample_bytree=0.5, score=-1085.193213 - 1.7min\n",
      "[CV] subsample=0.3, colsample_bytree=0.5 .............................\n",
      "[CV]  subsample=0.3, colsample_bytree=0.5, score=-1094.308861 - 1.7min\n",
      "[CV] subsample=0.5, colsample_bytree=0.5 .............................\n",
      "[CV]  subsample=0.5, colsample_bytree=0.5, score=-1073.134382 - 2.1min\n",
      "[CV] subsample=0.5, colsample_bytree=0.5 .............................\n",
      "[CV]  subsample=0.5, colsample_bytree=0.5, score=-1069.583297 - 2.1min\n",
      "[CV] subsample=0.5, colsample_bytree=0.5 .............................\n",
      "[CV]  subsample=0.5, colsample_bytree=0.5, score=-1068.951889 - 2.1min\n",
      "[CV] subsample=0.5, colsample_bytree=0.5 .............................\n",
      "[CV]  subsample=0.5, colsample_bytree=0.5, score=-1075.299265 - 2.1min\n",
      "[CV] subsample=0.5, colsample_bytree=0.5 .............................\n",
      "[CV]  subsample=0.5, colsample_bytree=0.5, score=-1079.980451 - 2.1min\n",
      "[CV] subsample=0.7, colsample_bytree=0.5 .............................\n",
      "[CV]  subsample=0.7, colsample_bytree=0.5, score=-1066.663504 - 1.8min\n",
      "[CV] subsample=0.7, colsample_bytree=0.5 .............................\n",
      "[CV]  subsample=0.7, colsample_bytree=0.5, score=-1062.658375 - 1.8min\n",
      "[CV] subsample=0.7, colsample_bytree=0.5 .............................\n",
      "[CV]  subsample=0.7, colsample_bytree=0.5, score=-1061.613428 - 1.8min\n",
      "[CV] subsample=0.7, colsample_bytree=0.5 .............................\n",
      "[CV]  subsample=0.7, colsample_bytree=0.5, score=-1067.611557 - 1.8min\n",
      "[CV] subsample=0.7, colsample_bytree=0.5 .............................\n",
      "[CV]  subsample=0.7, colsample_bytree=0.5, score=-1069.708523 - 1.8min\n",
      "[CV] subsample=1.0, colsample_bytree=0.5 .............................\n",
      "[CV]  subsample=1.0, colsample_bytree=0.5, score=-1066.447904 - 1.4min\n",
      "[CV] subsample=1.0, colsample_bytree=0.5 .............................\n",
      "[CV]  subsample=1.0, colsample_bytree=0.5, score=-1059.165302 - 1.4min\n",
      "[CV] subsample=1.0, colsample_bytree=0.5 .............................\n",
      "[CV]  subsample=1.0, colsample_bytree=0.5, score=-1059.383051 - 1.4min\n",
      "[CV] subsample=1.0, colsample_bytree=0.5 .............................\n",
      "[CV]  subsample=1.0, colsample_bytree=0.5, score=-1066.281081 - 1.4min\n",
      "[CV] subsample=1.0, colsample_bytree=0.5 .............................\n",
      "[CV]  subsample=1.0, colsample_bytree=0.5, score=-1070.859492 - 1.4min\n",
      "[CV] subsample=0.1, colsample_bytree=0.7 .............................\n",
      "[CV]  subsample=0.1, colsample_bytree=0.7, score=-1119.174548 - 1.4min\n",
      "[CV] subsample=0.1, colsample_bytree=0.7 .............................\n",
      "[CV]  subsample=0.1, colsample_bytree=0.7, score=-1118.223041 - 1.4min\n",
      "[CV] subsample=0.1, colsample_bytree=0.7 .............................\n",
      "[CV]  subsample=0.1, colsample_bytree=0.7, score=-1120.149020 - 1.4min\n",
      "[CV] subsample=0.1, colsample_bytree=0.7 .............................\n",
      "[CV]  subsample=0.1, colsample_bytree=0.7, score=-1123.079475 - 1.4min\n",
      "[CV] subsample=0.1, colsample_bytree=0.7 .............................\n",
      "[CV]  subsample=0.1, colsample_bytree=0.7, score=-1129.894010 - 1.4min\n",
      "[CV] subsample=0.3, colsample_bytree=0.7 .............................\n",
      "[CV]  subsample=0.3, colsample_bytree=0.7, score=-1081.185090 - 2.2min\n",
      "[CV] subsample=0.3, colsample_bytree=0.7 .............................\n",
      "[CV]  subsample=0.3, colsample_bytree=0.7, score=-1079.086443 - 2.2min\n",
      "[CV] subsample=0.3, colsample_bytree=0.7 .............................\n",
      "[CV]  subsample=0.3, colsample_bytree=0.7, score=-1082.950202 - 2.2min\n",
      "[CV] subsample=0.3, colsample_bytree=0.7 .............................\n",
      "[CV]  subsample=0.3, colsample_bytree=0.7, score=-1084.870666 - 2.2min\n",
      "[CV] subsample=0.3, colsample_bytree=0.7 .............................\n",
      "[CV]  subsample=0.3, colsample_bytree=0.7, score=-1091.292002 - 2.2min\n",
      "[CV] subsample=0.5, colsample_bytree=0.7 .............................\n",
      "[CV]  subsample=0.5, colsample_bytree=0.7, score=-1074.272054 - 2.8min\n",
      "[CV] subsample=0.5, colsample_bytree=0.7 .............................\n",
      "[CV]  subsample=0.5, colsample_bytree=0.7, score=-1068.843011 - 2.8min\n",
      "[CV] subsample=0.5, colsample_bytree=0.7 .............................\n",
      "[CV]  subsample=0.5, colsample_bytree=0.7, score=-1070.263590 - 2.8min\n",
      "[CV] subsample=0.5, colsample_bytree=0.7 .............................\n",
      "[CV]  subsample=0.5, colsample_bytree=0.7, score=-1072.710151 - 2.8min\n",
      "[CV] subsample=0.5, colsample_bytree=0.7 .............................\n",
      "[CV]  subsample=0.5, colsample_bytree=0.7, score=-1081.840558 - 2.8min\n",
      "[CV] subsample=0.7, colsample_bytree=0.7 .............................\n",
      "[CV]  subsample=0.7, colsample_bytree=0.7, score=-1067.288114 - 2.5min\n",
      "[CV] subsample=0.7, colsample_bytree=0.7 .............................\n",
      "[CV]  subsample=0.7, colsample_bytree=0.7, score=-1061.550888 - 2.5min\n",
      "[CV] subsample=0.7, colsample_bytree=0.7 .............................\n",
      "[CV]  subsample=0.7, colsample_bytree=0.7, score=-1064.866480 - 2.5min\n",
      "[CV] subsample=0.7, colsample_bytree=0.7 .............................\n",
      "[CV]  subsample=0.7, colsample_bytree=0.7, score=-1071.897921 - 2.5min\n",
      "[CV] subsample=0.7, colsample_bytree=0.7 .............................\n",
      "[CV]  subsample=0.7, colsample_bytree=0.7, score=-1074.505357 - 2.5min\n",
      "[CV] subsample=1.0, colsample_bytree=0.7 .............................\n",
      "[CV]  subsample=1.0, colsample_bytree=0.7, score=-1066.987666 - 1.8min\n",
      "[CV] subsample=1.0, colsample_bytree=0.7 .............................\n",
      "[CV]  subsample=1.0, colsample_bytree=0.7, score=-1058.819788 - 1.9min\n",
      "[CV] subsample=1.0, colsample_bytree=0.7 .............................\n",
      "[CV]  subsample=1.0, colsample_bytree=0.7, score=-1062.178769 - 1.9min\n",
      "[CV] subsample=1.0, colsample_bytree=0.7 .............................\n",
      "[CV]  subsample=1.0, colsample_bytree=0.7, score=-1065.241456 - 1.9min\n",
      "[CV] subsample=1.0, colsample_bytree=0.7 .............................\n",
      "[CV]  subsample=1.0, colsample_bytree=0.7, score=-1071.438901 - 1.8min\n",
      "[CV] subsample=0.1, colsample_bytree=1.0 .............................\n",
      "[CV]  subsample=0.1, colsample_bytree=1.0, score=-1124.491898 - 1.9min\n",
      "[CV] subsample=0.1, colsample_bytree=1.0 .............................\n",
      "[CV]  subsample=0.1, colsample_bytree=1.0, score=-1122.939433 - 1.9min\n",
      "[CV] subsample=0.1, colsample_bytree=1.0 .............................\n",
      "[CV]  subsample=0.1, colsample_bytree=1.0, score=-1124.408078 - 1.9min\n",
      "[CV] subsample=0.1, colsample_bytree=1.0 .............................\n",
      "[CV]  subsample=0.1, colsample_bytree=1.0, score=-1122.871608 - 1.9min\n",
      "[CV] subsample=0.1, colsample_bytree=1.0 .............................\n",
      "[CV]  subsample=0.1, colsample_bytree=1.0, score=-1132.365883 - 1.9min\n",
      "[CV] subsample=0.3, colsample_bytree=1.0 .............................\n",
      "[CV]  subsample=0.3, colsample_bytree=1.0, score=-1088.143854 - 3.1min\n",
      "[CV] subsample=0.3, colsample_bytree=1.0 .............................\n",
      "[CV]  subsample=0.3, colsample_bytree=1.0, score=-1076.727362 - 3.1min\n",
      "[CV] subsample=0.3, colsample_bytree=1.0 .............................\n",
      "[CV]  subsample=0.3, colsample_bytree=1.0, score=-1081.402259 - 3.1min\n",
      "[CV] subsample=0.3, colsample_bytree=1.0 .............................\n",
      "[CV]  subsample=0.3, colsample_bytree=1.0, score=-1090.599114 - 3.1min\n",
      "[CV] subsample=0.3, colsample_bytree=1.0 .............................\n",
      "[CV]  subsample=0.3, colsample_bytree=1.0, score=-1092.384762 - 3.1min\n",
      "[CV] subsample=0.5, colsample_bytree=1.0 .............................\n",
      "[CV]  subsample=0.5, colsample_bytree=1.0, score=-1074.581424 - 3.9min\n",
      "[CV] subsample=0.5, colsample_bytree=1.0 .............................\n",
      "[CV]  subsample=0.5, colsample_bytree=1.0, score=-1068.340209 - 3.9min\n",
      "[CV] subsample=0.5, colsample_bytree=1.0 .............................\n",
      "[CV]  subsample=0.5, colsample_bytree=1.0, score=-1069.809070 - 3.9min\n",
      "[CV] subsample=0.5, colsample_bytree=1.0 .............................\n",
      "[CV]  subsample=0.5, colsample_bytree=1.0, score=-1073.306042 - 3.9min\n",
      "[CV] subsample=0.5, colsample_bytree=1.0 .............................\n",
      "[CV]  subsample=0.5, colsample_bytree=1.0, score=-1082.637211 - 3.9min\n",
      "[CV] subsample=0.7, colsample_bytree=1.0 .............................\n",
      "[CV]  subsample=0.7, colsample_bytree=1.0, score=-1070.795936 - 3.5min\n",
      "[CV] subsample=0.7, colsample_bytree=1.0 .............................\n",
      "[CV]  subsample=0.7, colsample_bytree=1.0, score=-1064.922804 - 3.5min\n",
      "[CV] subsample=0.7, colsample_bytree=1.0 .............................\n",
      "[CV]  subsample=0.7, colsample_bytree=1.0, score=-1067.527752 - 3.4min\n",
      "[CV] subsample=0.7, colsample_bytree=1.0 .............................\n",
      "[CV]  subsample=0.7, colsample_bytree=1.0, score=-1073.064184 - 3.5min\n",
      "[CV] subsample=0.7, colsample_bytree=1.0 .............................\n",
      "[CV]  subsample=0.7, colsample_bytree=1.0, score=-1078.993625 - 3.4min\n",
      "[CV] subsample=1.0, colsample_bytree=1.0 .............................\n",
      "[CV]  subsample=1.0, colsample_bytree=1.0, score=-1068.629337 - 2.6min\n",
      "[CV] subsample=1.0, colsample_bytree=1.0 .............................\n",
      "[CV]  subsample=1.0, colsample_bytree=1.0, score=-1057.684513 - 2.6min\n",
      "[CV] subsample=1.0, colsample_bytree=1.0 .............................\n",
      "[CV]  subsample=1.0, colsample_bytree=1.0, score=-1064.093481 - 2.6min\n",
      "[CV] subsample=1.0, colsample_bytree=1.0 .............................\n",
      "[CV]  subsample=1.0, colsample_bytree=1.0, score=-1065.511879 - 2.6min\n",
      "[CV] subsample=1.0, colsample_bytree=1.0 .............................\n",
      "[CV]  subsample=1.0, colsample_bytree=1.0, score=-1076.093036 - 2.6min\n"
     ]
    },
    {
     "name": "stderr",
     "output_type": "stream",
     "text": [
      "[Parallel(n_jobs=1)]: Done 125 out of 125 | elapsed: 207.1min finished\n"
     ]
    },
    {
     "data": {
      "text/plain": [
       "GridSearchCV(cv=5, error_score='raise',\n",
       "       estimator=XGBRegressor(base_score=0.5, colsample_bylevel=1, colsample_bytree=1, gamma=0,\n",
       "       learning_rate=0.1, max_delta_step=0, max_depth=5,\n",
       "       min_child_weight=4, missing=None, n_estimators=1000, nthread=4,\n",
       "       objective='reg:linear', reg_alpha=0, reg_lambda=1,\n",
       "       scale_pos_weight=1, seed=42, silent=True, subsample=1),\n",
       "       fit_params={}, iid=True, n_jobs=1,\n",
       "       param_grid={'subsample': [0.1, 0.3, 0.5, 0.7, 1.0], 'colsample_bytree': [0.1, 0.3, 0.5, 0.7, 1.0]},\n",
       "       pre_dispatch='2*n_jobs', refit=True,\n",
       "       scoring='neg_mean_absolute_error', verbose=3)"
      ]
     },
     "execution_count": 3,
     "metadata": {},
     "output_type": "execute_result"
    }
   ],
   "source": [
    "gsearch2 = GridSearchCV(cv=5, \n",
    "             error_score='raise', \n",
    "             estimator= XGBRegressor(max_depth=5, \n",
    "                                     learning_rate=0.1, \n",
    "                                     n_estimators=1000, \n",
    "                                     silent=True, \n",
    "                                     objective='reg:linear', \n",
    "                                     nthread=4, \n",
    "                                     gamma=gsearch1.best_params_['gamma'], \n",
    "                                     min_child_weight=4, \n",
    "                                     max_delta_step=0, \n",
    "                                     subsample=1, \n",
    "                                     colsample_bytree=1, \n",
    "                                     colsample_bylevel=1, \n",
    "                                     reg_alpha=0, \n",
    "                                     reg_lambda=1, \n",
    "                                     scale_pos_weight=1, \n",
    "                                     base_score=0.5, \n",
    "                                     seed=42, \n",
    "                                     missing=None),\n",
    "             fit_params={}, \n",
    "             iid=True, \n",
    "             n_jobs=1,\n",
    "             param_grid={'colsample_bytree': [0.1,0.3,0.5,0.7,1.], 'subsample': [0.1,0.3,0.5,0.7, 1.]},\n",
    "             #pre_dispatch='2*n_jobs', \n",
    "             #pre_dispatch=2, \n",
    "             refit=True, \n",
    "             scoring='neg_mean_absolute_error', \n",
    "             verbose=3)\n",
    "\n",
    "gsearch2.fit(final_train,y_train)"
   ]
  },
  {
   "cell_type": "code",
   "execution_count": 4,
   "metadata": {
    "collapsed": false
   },
   "outputs": [
    {
     "name": "stdout",
     "output_type": "stream",
     "text": [
      "Fitting 5 folds for each of 8 candidates, totalling 40 fits\n",
      "[CV] reg_alpha=1e-05 .................................................\n",
      "[CV] .................... reg_alpha=1e-05, score=-1063.243811 -  55.0s\n",
      "[CV] reg_alpha=1e-05 .................................................\n"
     ]
    },
    {
     "name": "stderr",
     "output_type": "stream",
     "text": [
      "[Parallel(n_jobs=1)]: Done   1 out of   1 | elapsed:   55.0s remaining:    0.0s\n"
     ]
    },
    {
     "name": "stdout",
     "output_type": "stream",
     "text": [
      "[CV] .................... reg_alpha=1e-05, score=-1055.949710 -  55.1s\n",
      "[CV] reg_alpha=1e-05 .................................................\n"
     ]
    },
    {
     "name": "stderr",
     "output_type": "stream",
     "text": [
      "[Parallel(n_jobs=1)]: Done   2 out of   2 | elapsed:  1.8min remaining:    0.0s\n"
     ]
    },
    {
     "name": "stdout",
     "output_type": "stream",
     "text": [
      "[CV] .................... reg_alpha=1e-05, score=-1058.702735 -  55.0s\n",
      "[CV] reg_alpha=1e-05 .................................................\n",
      "[CV] .................... reg_alpha=1e-05, score=-1061.950459 -  55.0s\n",
      "[CV] reg_alpha=1e-05 .................................................\n",
      "[CV] .................... reg_alpha=1e-05, score=-1067.585793 -  55.1s\n",
      "[CV] reg_alpha=0.0001 ................................................\n",
      "[CV] ................... reg_alpha=0.0001, score=-1062.744920 -  55.0s\n",
      "[CV] reg_alpha=0.0001 ................................................\n",
      "[CV] ................... reg_alpha=0.0001, score=-1055.314886 -  55.0s\n",
      "[CV] reg_alpha=0.0001 ................................................\n",
      "[CV] ................... reg_alpha=0.0001, score=-1058.702736 -  55.0s\n",
      "[CV] reg_alpha=0.0001 ................................................\n",
      "[CV] ................... reg_alpha=0.0001, score=-1061.950473 -  55.1s\n",
      "[CV] reg_alpha=0.0001 ................................................\n",
      "[CV] ................... reg_alpha=0.0001, score=-1067.585792 -  55.0s\n",
      "[CV] reg_alpha=0.001 .................................................\n",
      "[CV] .................... reg_alpha=0.001, score=-1063.243816 -  55.0s\n",
      "[CV] reg_alpha=0.001 .................................................\n",
      "[CV] .................... reg_alpha=0.001, score=-1055.314869 -  55.0s\n",
      "[CV] reg_alpha=0.001 .................................................\n",
      "[CV] .................... reg_alpha=0.001, score=-1058.702747 -  55.5s\n",
      "[CV] reg_alpha=0.001 .................................................\n",
      "[CV] .................... reg_alpha=0.001, score=-1061.950470 -  55.1s\n",
      "[CV] reg_alpha=0.001 .................................................\n",
      "[CV] .................... reg_alpha=0.001, score=-1067.585791 -  55.0s\n",
      "[CV] reg_alpha=0.01 ..................................................\n",
      "[CV] ..................... reg_alpha=0.01, score=-1063.243810 -  55.0s\n",
      "[CV] reg_alpha=0.01 ..................................................\n",
      "[CV] ..................... reg_alpha=0.01, score=-1056.797656 -  55.1s\n",
      "[CV] reg_alpha=0.01 ..................................................\n",
      "[CV] ..................... reg_alpha=0.01, score=-1058.702729 -  55.0s\n",
      "[CV] reg_alpha=0.01 ..................................................\n",
      "[CV] ..................... reg_alpha=0.01, score=-1061.950454 -  55.0s\n",
      "[CV] reg_alpha=0.01 ..................................................\n",
      "[CV] ..................... reg_alpha=0.01, score=-1067.585778 -  55.1s\n",
      "[CV] reg_alpha=0.1 ...................................................\n",
      "[CV] ...................... reg_alpha=0.1, score=-1062.247452 -  55.0s\n",
      "[CV] reg_alpha=0.1 ...................................................\n",
      "[CV] ...................... reg_alpha=0.1, score=-1056.797537 -  55.0s\n",
      "[CV] reg_alpha=0.1 ...................................................\n",
      "[CV] ...................... reg_alpha=0.1, score=-1058.592580 -  55.1s\n",
      "[CV] reg_alpha=0.1 ...................................................\n",
      "[CV] ...................... reg_alpha=0.1, score=-1061.950357 -  55.0s\n",
      "[CV] reg_alpha=0.1 ...................................................\n",
      "[CV] ...................... reg_alpha=0.1, score=-1068.157635 -  55.0s\n",
      "[CV] reg_alpha=1 .....................................................\n",
      "[CV] ........................ reg_alpha=1, score=-1062.589177 -  54.9s\n",
      "[CV] reg_alpha=1 .....................................................\n",
      "[CV] ........................ reg_alpha=1, score=-1055.704507 -  55.0s\n",
      "[CV] reg_alpha=1 .....................................................\n",
      "[CV] ........................ reg_alpha=1, score=-1058.001336 -  55.0s\n",
      "[CV] reg_alpha=1 .....................................................\n",
      "[CV] ........................ reg_alpha=1, score=-1061.387544 -  55.1s\n",
      "[CV] reg_alpha=1 .....................................................\n",
      "[CV] ........................ reg_alpha=1, score=-1067.602384 -  55.0s\n",
      "[CV] reg_alpha=10 ....................................................\n",
      "[CV] ....................... reg_alpha=10, score=-1061.905573 -  55.0s\n",
      "[CV] reg_alpha=10 ....................................................\n",
      "[CV] ....................... reg_alpha=10, score=-1057.013253 -  55.0s\n",
      "[CV] reg_alpha=10 ....................................................\n",
      "[CV] ....................... reg_alpha=10, score=-1057.807780 -  55.0s\n",
      "[CV] reg_alpha=10 ....................................................\n",
      "[CV] ....................... reg_alpha=10, score=-1061.200925 -  55.1s\n",
      "[CV] reg_alpha=10 ....................................................\n",
      "[CV] ....................... reg_alpha=10, score=-1068.352478 -  55.0s\n",
      "[CV] reg_alpha=100 ...................................................\n",
      "[CV] ...................... reg_alpha=100, score=-1063.332287 -  55.0s\n",
      "[CV] reg_alpha=100 ...................................................\n",
      "[CV] ...................... reg_alpha=100, score=-1055.305555 -  55.0s\n",
      "[CV] reg_alpha=100 ...................................................\n",
      "[CV] ...................... reg_alpha=100, score=-1060.765181 -  55.1s\n",
      "[CV] reg_alpha=100 ...................................................\n",
      "[CV] ...................... reg_alpha=100, score=-1062.764694 -  55.0s\n",
      "[CV] reg_alpha=100 ...................................................\n",
      "[CV] ...................... reg_alpha=100, score=-1066.728473 -  55.1s\n"
     ]
    },
    {
     "name": "stderr",
     "output_type": "stream",
     "text": [
      "[Parallel(n_jobs=1)]: Done  40 out of  40 | elapsed: 36.7min finished\n"
     ]
    },
    {
     "data": {
      "text/plain": [
       "GridSearchCV(cv=5, error_score='raise',\n",
       "       estimator=XGBRegressor(base_score=0.5, colsample_bylevel=1, colsample_bytree=0.3,\n",
       "       gamma=0, learning_rate=0.1, max_delta_step=0, max_depth=5,\n",
       "       min_child_weight=4, missing=None, n_estimators=1000, nthread=4,\n",
       "       objective='reg:linear', reg_alpha=0, reg_lambda=1,\n",
       "       scale_pos_weight=1, seed=42, silent=True, subsample=1.0),\n",
       "       fit_params={}, iid=True, n_jobs=1,\n",
       "       param_grid={'reg_alpha': [1e-05, 0.0001, 0.001, 0.01, 0.1, 1, 10, 100]},\n",
       "       pre_dispatch='2*n_jobs', refit=True,\n",
       "       scoring='neg_mean_absolute_error', verbose=3)"
      ]
     },
     "execution_count": 4,
     "metadata": {},
     "output_type": "execute_result"
    }
   ],
   "source": [
    "gsearch3 = GridSearchCV(cv=5, \n",
    "             error_score='raise', \n",
    "             estimator= XGBRegressor(max_depth=5, \n",
    "                                     learning_rate=0.1, \n",
    "                                     n_estimators=1000, \n",
    "                                     silent=True, \n",
    "                                     objective='reg:linear', \n",
    "                                     nthread=4, \n",
    "                                     gamma=0, \n",
    "                                     min_child_weight=4, \n",
    "                                     max_delta_step=0, \n",
    "                                     subsample=gsearch2.best_params_['subsample'], \n",
    "                                     colsample_bytree=gsearch2.best_params_['colsample_bytree'], \n",
    "                                     colsample_bylevel=1, \n",
    "                                     reg_alpha=0, \n",
    "                                     reg_lambda=1, \n",
    "                                     scale_pos_weight=1, \n",
    "                                     base_score=0.5, \n",
    "                                     seed=42, \n",
    "                                     missing=None),\n",
    "             fit_params={}, \n",
    "             iid=True, \n",
    "             n_jobs=1,\n",
    "             param_grid={'reg_alpha':[1e-5,1e-4,1e-3, 1e-2, 0.1, 1,10, 100]},\n",
    "             #pre_dispatch='2*n_jobs', \n",
    "             #pre_dispatch=2, \n",
    "             refit=True, \n",
    "             scoring='neg_mean_absolute_error', \n",
    "             verbose=3)\n",
    "\n",
    "gsearch3.fit(final_train,y_train)"
   ]
  },
  {
   "cell_type": "code",
   "execution_count": 5,
   "metadata": {
    "collapsed": false
   },
   "outputs": [
    {
     "data": {
      "text/plain": [
       "([mean: -1066.88329, std: 5.15210, params: {'gamma': 0},\n",
       "  mean: -1066.88329, std: 5.15210, params: {'gamma': 0.1},\n",
       "  mean: -1066.88329, std: 5.15210, params: {'gamma': 0.2},\n",
       "  mean: -1066.88329, std: 5.15210, params: {'gamma': 0.3},\n",
       "  mean: -1066.88329, std: 5.15210, params: {'gamma': 0.5},\n",
       "  mean: -1066.88329, std: 5.15210, params: {'gamma': 0.7},\n",
       "  mean: -1066.88329, std: 5.15210, params: {'gamma': 1.0}],\n",
       " {'gamma': 0},\n",
       " -1066.883286505617)"
      ]
     },
     "execution_count": 5,
     "metadata": {},
     "output_type": "execute_result"
    }
   ],
   "source": [
    "gsearch1.grid_scores_, gsearch1.best_params_, gsearch1.best_score_\n"
   ]
  },
  {
   "cell_type": "code",
   "execution_count": 6,
   "metadata": {
    "collapsed": false
   },
   "outputs": [
    {
     "data": {
      "text/plain": [
       "([mean: -1110.64236, std: 6.01021, params: {'subsample': 0.1, 'colsample_bytree': 0.1},\n",
       "  mean: -1079.64727, std: 4.01057, params: {'subsample': 0.3, 'colsample_bytree': 0.1},\n",
       "  mean: -1069.71587, std: 4.07726, params: {'subsample': 0.5, 'colsample_bytree': 0.1},\n",
       "  mean: -1066.69967, std: 3.70207, params: {'subsample': 0.7, 'colsample_bytree': 0.1},\n",
       "  mean: -1064.62436, std: 3.40431, params: {'subsample': 1.0, 'colsample_bytree': 0.1},\n",
       "  mean: -1117.62939, std: 6.04158, params: {'subsample': 0.1, 'colsample_bytree': 0.3},\n",
       "  mean: -1080.37452, std: 5.24653, params: {'subsample': 0.3, 'colsample_bytree': 0.3},\n",
       "  mean: -1070.52943, std: 3.39806, params: {'subsample': 0.5, 'colsample_bytree': 0.3},\n",
       "  mean: -1064.89643, std: 3.92841, params: {'subsample': 0.7, 'colsample_bytree': 0.3},\n",
       "  mean: -1061.35956, std: 4.15361, params: {'subsample': 1.0, 'colsample_bytree': 0.3},\n",
       "  mean: -1118.43054, std: 4.23722, params: {'subsample': 0.1, 'colsample_bytree': 0.5},\n",
       "  mean: -1082.69499, std: 6.97152, params: {'subsample': 0.3, 'colsample_bytree': 0.5},\n",
       "  mean: -1073.38985, std: 4.03317, params: {'subsample': 0.5, 'colsample_bytree': 0.5},\n",
       "  mean: -1065.65109, std: 3.05255, params: {'subsample': 0.7, 'colsample_bytree': 0.5},\n",
       "  mean: -1064.42739, std: 4.51720, params: {'subsample': 1.0, 'colsample_bytree': 0.5},\n",
       "  mean: -1122.10399, std: 4.22140, params: {'subsample': 0.1, 'colsample_bytree': 0.7},\n",
       "  mean: -1083.87685, std: 4.17192, params: {'subsample': 0.3, 'colsample_bytree': 0.7},\n",
       "  mean: -1073.58588, std: 4.53674, params: {'subsample': 0.5, 'colsample_bytree': 0.7},\n",
       "  mean: -1068.02174, std: 4.67820, params: {'subsample': 0.7, 'colsample_bytree': 0.7},\n",
       "  mean: -1064.93334, std: 4.28020, params: {'subsample': 1.0, 'colsample_bytree': 0.7},\n",
       "  mean: -1125.41537, std: 3.54339, params: {'subsample': 0.1, 'colsample_bytree': 1.0},\n",
       "  mean: -1085.85149, std: 5.89108, params: {'subsample': 0.3, 'colsample_bytree': 1.0},\n",
       "  mean: -1073.73480, std: 4.99333, params: {'subsample': 0.5, 'colsample_bytree': 1.0},\n",
       "  mean: -1071.06086, std: 4.84089, params: {'subsample': 0.7, 'colsample_bytree': 1.0},\n",
       "  mean: -1066.40247, std: 6.01653, params: {'subsample': 1.0, 'colsample_bytree': 1.0}],\n",
       " {'colsample_bytree': 0.3, 'subsample': 1.0},\n",
       " -1061.3595591174762)"
      ]
     },
     "execution_count": 6,
     "metadata": {},
     "output_type": "execute_result"
    }
   ],
   "source": [
    "gsearch2.grid_scores_, gsearch2.best_params_, gsearch2.best_score_"
   ]
  },
  {
   "cell_type": "code",
   "execution_count": 7,
   "metadata": {
    "collapsed": false
   },
   "outputs": [
    {
     "data": {
      "text/plain": [
       "([mean: -1061.48652, std: 3.97266, params: {'reg_alpha': 1e-05},\n",
       "  mean: -1061.25978, std: 4.11294, params: {'reg_alpha': 0.0001},\n",
       "  mean: -1061.35956, std: 4.15361, params: {'reg_alpha': 0.001},\n",
       "  mean: -1061.65610, std: 3.74421, params: {'reg_alpha': 0.01},\n",
       "  mean: -1061.54912, std: 3.88947, params: {'reg_alpha': 0.1},\n",
       "  mean: -1061.05701, std: 4.08130, params: {'reg_alpha': 1},\n",
       "  mean: -1061.25601, std: 4.01687, params: {'reg_alpha': 10},\n",
       "  mean: -1061.77925, std: 3.76337, params: {'reg_alpha': 100}],\n",
       " {'reg_alpha': 1},\n",
       " -1061.0570063295957)"
      ]
     },
     "execution_count": 7,
     "metadata": {},
     "output_type": "execute_result"
    }
   ],
   "source": [
    "gsearch3.grid_scores_, gsearch3.best_params_, gsearch3.best_score_"
   ]
  }
 ],
 "metadata": {
  "celltoolbar": "Edit Metadata",
  "kernelspec": {
   "display_name": "Python 2",
   "language": "python",
   "name": "python2"
  },
  "language_info": {
   "codemirror_mode": {
    "name": "ipython",
    "version": 2
   },
   "file_extension": ".py",
   "mimetype": "text/x-python",
   "name": "python",
   "nbconvert_exporter": "python",
   "pygments_lexer": "ipython2",
   "version": "2.7.12"
  }
 },
 "nbformat": 4,
 "nbformat_minor": 1
}

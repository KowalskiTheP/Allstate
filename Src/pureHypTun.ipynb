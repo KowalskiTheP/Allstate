{
 "cells": [
  {
   "cell_type": "code",
   "execution_count": 1,
   "metadata": {
    "collapsed": false
   },
   "outputs": [
    {
     "name": "stdout",
     "output_type": "stream",
     "text": [
      "Lets shuffle\n",
      "Breite des letztichen Datensatzes:  434\n",
      "Data managment done!\n"
     ]
    }
   ],
   "source": [
    "import pandas as pd\n",
    "import numpy as np\n",
    "import xgboost as xgb\n",
    "from sklearn.grid_search import GridSearchCV\n",
    "from xgboost.sklearn import XGBRegressor\n",
    "\n",
    "#training_data = \"../Data/train_shuffled_noCat110Cat116_oneHot.csv\"\n",
    "#dataset = pd.read_csv(training_data,delimiter=\",\", header=0, index_col=0)\n",
    "#dataset.drop(['id'], axis=1, inplace=True)\n",
    "\n",
    "#Hier zu mischen und one-hot-encoding einzuführen macht das droppen deutlich einfacher. \n",
    "#Die wegfallenden Kategorien wurden weiter unten ermittelt (cat110 und cat116 wurden schon im vorhinen entfehrnt).\n",
    "dataset = pd.read_csv('../Data/train_noOutliers.csv',delimiter=\",\", header=0)\n",
    "#dataset.drop(['id','cat110','cat116','cat107', 'cat109', 'cat114', 'cat93', 'cat100', 'cat113', 'cat112', 'cat91', 'cat86', 'cat75', 'cat92', 'cat102', 'cat94', 'cat29', 'cat54', 'cat48', 'cat96', 'cat95', 'cat115', 'cat104', 'cat106', 'cat46', 'cat24', 'cat99', 'cat43', 'cat17', 'cat66', 'cat18', 'cat83', 'cat65', 'cat85', 'cat84', 'cat33', 'cat61', 'cat76', 'cat97', 'cat45', 'cat30', 'cat35', 'cat88', 'cat108', 'cat71', 'cat42', 'cat39', 'cat67', 'cat70', 'cat8', 'cat78', 'cat77', 'cat51', 'cat98', 'cat19', 'cat15', 'cat20', 'cat21', 'cat22', 'cat25', 'cat26', 'cat27', 'cat31', 'cat32', 'cat34', 'cat37', 'cat38', 'cat41', 'cat44', 'cat47', 'cat49', 'cat52', 'cat53', 'cat55', 'cat56', 'cat58', 'cat59', 'cat60', 'cat62', 'cat63', 'cat64', 'cat68', 'cat69', 'cat74'], axis=1, inplace=True)\n",
    "dataset.drop(['id','cat110','cat116'], axis=1, inplace=True)\n",
    "print \"Lets shuffle\"\n",
    "dataset = dataset.reindex(np.random.permutation(dataset.index))\n",
    "dataset = pd.get_dummies(dataset, prefix=None, prefix_sep='_', dummy_na=False, columns=None, sparse=False, drop_first=True)\n",
    "\n",
    "#Experiment\n",
    "# Imp=0\n",
    "dataset.drop(['cat22_B', 'cat55_B', 'cat63_B', 'cat74_C', 'cat75_C', 'cat88_B', 'cat89_E', 'cat89_G', 'cat89_I', 'cat90_D', 'cat90_E', 'cat90_F', 'cat90_G', 'cat91_H', 'cat92_C', 'cat92_D', 'cat92_F', 'cat92_I', 'cat94_E', 'cat94_G', 'cat96_B', 'cat96_F', 'cat97_B', 'cat97_F', 'cat99_G', 'cat99_H', 'cat99_I', 'cat99_O', 'cat99_P', 'cat99_R', 'cat99_T', 'cat100_E', 'cat101_B', 'cat101_E', 'cat101_H', 'cat101_K', 'cat101_N', 'cat102_G', 'cat103_K', 'cat103_N', 'cat104_Q', 'cat105_B', 'cat105_P', 'cat105_Q', 'cat105_R', 'cat105_S', 'cat106_B', 'cat106_O', 'cat106_P', 'cat106_R', 'cat107_B', 'cat107_R', 'cat107_S', 'cat107_U', 'cat108_C', 'cat108_F', 'cat108_J', 'cat109_AA', 'cat109_AE', 'cat109_AF', 'cat109_AG', 'cat109_AH', 'cat109_AJ', 'cat109_AK', 'cat109_AN', 'cat109_AO', 'cat109_AP', 'cat109_AQ', 'cat109_AR', 'cat109_AT', 'cat109_AU', 'cat109_AV', 'cat109_AW', 'cat109_AY', 'cat109_B', 'cat109_BA', 'cat109_BC', 'cat109_BE', 'cat109_BF', 'cat109_BG', 'cat109_BK', 'cat109_BM', 'cat109_BN', 'cat109_BP', 'cat109_BR', 'cat109_BS', 'cat109_BT', 'cat109_BV', 'cat109_BY', 'cat109_CB', 'cat109_CC', 'cat109_CE', 'cat109_CF', 'cat109_CG', 'cat109_CH', 'cat109_CI', 'cat109_CJ', 'cat109_CK', 'cat109_CL', 'cat109_H', 'cat109_J', 'cat109_K', 'cat109_O', 'cat109_P', 'cat109_Q', 'cat109_V', 'cat109_ZZ', 'cat111_B', 'cat111_D', 'cat111_F', 'cat111_Q', 'cat111_S', 'cat111_Y', 'cat112_AQ', 'cat112_AW', 'cat112_B', 'cat113_AB', 'cat113_AC', 'cat113_AL', 'cat113_AP', 'cat113_AQ', 'cat113_AR', 'cat113_B', 'cat113_BB', 'cat113_BI', 'cat113_BL', 'cat113_E', 'cat113_G', 'cat113_O', 'cat113_P', 'cat113_T', 'cat113_U', 'cat114_B', 'cat114_D', 'cat114_G', 'cat114_S', 'cat114_W', 'cat114_X', 'cat115_B', 'cat115_C', 'cat115_D', 'cat115_E', 'cat115_W', 'cat115_X'], axis=1, inplace=True)\n",
    "#Imp <= 5\n",
    "#dataset.drop(['cat113_BH', 'cat107_P', 'cat86_B', 'cat64_A', 'cat86_A', 'cat115_H', 'cat113_L', 'cat107_N', 'cat109_D', 'cat95_A', 'cat99_N', 'cat60_A', 'cat99_J', 'cat113_Y', 'cat115_R', 'cat112_M', 'cat86_D', 'cat109_G', 'cat112_Q', 'cat113_BK', 'cat106_D', 'cat112_AO', 'cat112_AX', 'cat109_AL', 'cat98_D', 'cat105_L', 'cat97_E', 'cat109_AR', 'cat88_D', 'cat108_I', 'cat109_BL', 'cat71_A', 'cat112_AC', 'cat112_AE', 'cat77_D', 'cat104_O', 'cat104_C', 'cat108_H', 'cat109_BQ', 'cat97_F', 'cat98_C', 'cat113_BD', 'cat109_K', 'cat113_BN', 'cat109_L', 'cat22_A', 'cat107_Q', 'cat62_A', 'cat96_B', 'cat104_P', 'cat15_A', 'cat20_A', 'cat61_A', 'cat86_C', 'cat88_A', 'cat88_E', 'cat92_C', 'cat92_D', 'cat94_A', 'cat94_G', 'cat96_I', 'cat99_M', 'cat104_A', 'cat106_M', 'cat109_AF', 'cat109_AM', 'cat109_BJ', 'cat109_BK', 'cat109_C', 'cat109_CA', 'cat109_CJ', 'cat109_R', 'cat109_T', 'cat111_Y', 'cat112_AQ', 'cat112_AW', 'cat113_AP', 'cat114_D', 'cat114_V'], axis=1, inplace=True)\n",
    "print \"Breite des letztichen Datensatzes: \", len(dataset.columns)\n",
    "\n",
    "testSize = 0.1 * len(dataset)\n",
    "part = 1\n",
    "final_train = dataset[int((part-1)*testSize):int(part*testSize)]\n",
    "part = 2\n",
    "#final_test = dataset[int((part-1)*testSize):int(part*testSize)]\n",
    "\n",
    "y_train = final_train.pop('loss')\n",
    "#y_test = final_test.pop('loss')\n",
    "#print final_train\n",
    "print \"Data managment done!\""
   ]
  },
  {
   "cell_type": "code",
   "execution_count": 2,
   "metadata": {
    "collapsed": false
   },
   "outputs": [],
   "source": [
    "def modelfit(alg, dtrain, predictors, cv_folds=5, early_stopping_rounds=50):\n",
    "    xgtrain = xgb.DMatrix(dtrain, label=predictors)\n",
    "    xgb_param = alg.get_xgb_params()\n",
    "    #cvresult = xgb.cv(xgb_param, xgtrain, num_boost_round=alg.get_params()['n_estimators'], nfold=cv_folds, \n",
    "    #                  metrics='mae', early_stopping_rounds=early_stopping_rounds)\n",
    "    cvresult = xgb.cv(xgb_param, xgtrain, num_boost_round=1000, nfold=cv_folds, \n",
    "                      metrics='mae', early_stopping_rounds=early_stopping_rounds)\n",
    "    print cvresult\n",
    "\n",
    "xgb1 = XGBRegressor(max_depth=3, \n",
    "                                     learning_rate=0.1, \n",
    "                                     n_estimators=1000, \n",
    "                                     silent=True, \n",
    "                                     objective='reg:linear', \n",
    "                                     nthread=10, \n",
    "                                     gamma=0, \n",
    "                                     min_child_weight=7, \n",
    "                                     max_delta_step=0, \n",
    "                                     subsample=1, \n",
    "                                     colsample_bytree=0.3, \n",
    "                                     colsample_bylevel=1, \n",
    "                                     reg_alpha=1, \n",
    "                                     reg_lambda=1, \n",
    "                                     scale_pos_weight=1, \n",
    "                                     base_score=0.5, \n",
    "                                     seed=42, \n",
    "                                     missing=None)\n",
    "#modelfit(xgb1,final_train,y_train)"
   ]
  },
  {
   "cell_type": "code",
   "execution_count": null,
   "metadata": {
    "collapsed": true
   },
   "outputs": [],
   "source": []
  },
  {
   "cell_type": "code",
   "execution_count": 3,
   "metadata": {
    "collapsed": false,
    "scrolled": true
   },
   "outputs": [
    {
     "name": "stdout",
     "output_type": "stream",
     "text": [
      "Fitting 5 folds for each of 5 candidates, totalling 25 fits\n",
      "[CV] n_estimators=100 ................................................\n",
      "[CV] ................... n_estimators=100, score=-1107.592809 -   1.4s\n",
      "[CV] n_estimators=100 ................................................\n"
     ]
    },
    {
     "name": "stderr",
     "output_type": "stream",
     "text": [
      "[Parallel(n_jobs=1)]: Done   1 out of   1 | elapsed:    1.4s remaining:    0.0s\n"
     ]
    },
    {
     "name": "stdout",
     "output_type": "stream",
     "text": [
      "[CV] ................... n_estimators=100, score=-1152.137448 -   1.4s\n",
      "[CV] n_estimators=100 ................................................\n"
     ]
    },
    {
     "name": "stderr",
     "output_type": "stream",
     "text": [
      "[Parallel(n_jobs=1)]: Done   2 out of   2 | elapsed:    2.8s remaining:    0.0s\n"
     ]
    },
    {
     "name": "stdout",
     "output_type": "stream",
     "text": [
      "[CV] ................... n_estimators=100, score=-1145.937673 -   1.4s\n",
      "[CV] n_estimators=100 ................................................\n",
      "[CV] ................... n_estimators=100, score=-1115.060137 -   1.4s\n",
      "[CV] n_estimators=100 ................................................\n",
      "[CV] ................... n_estimators=100, score=-1121.283066 -   1.4s\n",
      "[CV] n_estimators=500 ................................................\n",
      "[CV] ................... n_estimators=500, score=-1074.725740 -   5.7s\n",
      "[CV] n_estimators=500 ................................................\n",
      "[CV] ................... n_estimators=500, score=-1104.444836 -   5.7s\n",
      "[CV] n_estimators=500 ................................................\n",
      "[CV] ................... n_estimators=500, score=-1109.481660 -   5.7s\n",
      "[CV] n_estimators=500 ................................................\n",
      "[CV] ................... n_estimators=500, score=-1071.531953 -   5.7s\n",
      "[CV] n_estimators=500 ................................................\n",
      "[CV] ................... n_estimators=500, score=-1080.858550 -   5.8s\n",
      "[CV] n_estimators=750 ................................................\n",
      "[CV] ................... n_estimators=750, score=-1077.435223 -   8.4s\n",
      "[CV] n_estimators=750 ................................................\n",
      "[CV] ................... n_estimators=750, score=-1103.220022 -   8.4s\n",
      "[CV] n_estimators=750 ................................................\n",
      "[CV] ................... n_estimators=750, score=-1107.751957 -   8.5s\n",
      "[CV] n_estimators=750 ................................................\n",
      "[CV] ................... n_estimators=750, score=-1071.368532 -   8.4s\n",
      "[CV] n_estimators=750 ................................................\n",
      "[CV] ................... n_estimators=750, score=-1083.690859 -   8.5s\n",
      "[CV] n_estimators=1000 ...............................................\n",
      "[CV] .................. n_estimators=1000, score=-1078.265660 -  11.1s\n",
      "[CV] n_estimators=1000 ...............................................\n",
      "[CV] .................. n_estimators=1000, score=-1105.588677 -  11.1s\n",
      "[CV] n_estimators=1000 ...............................................\n",
      "[CV] .................. n_estimators=1000, score=-1108.525537 -  11.0s\n",
      "[CV] n_estimators=1000 ...............................................\n",
      "[CV] .................. n_estimators=1000, score=-1073.905201 -  11.2s\n",
      "[CV] n_estimators=1000 ...............................................\n",
      "[CV] .................. n_estimators=1000, score=-1086.166663 -  11.1s\n",
      "[CV] n_estimators=2000 ...............................................\n",
      "[CV] .................. n_estimators=2000, score=-1089.948766 -  22.0s\n",
      "[CV] n_estimators=2000 ...............................................\n",
      "[CV] .................. n_estimators=2000, score=-1119.539438 -  22.1s\n",
      "[CV] n_estimators=2000 ...............................................\n",
      "[CV] .................. n_estimators=2000, score=-1119.419943 -  21.8s\n",
      "[CV] n_estimators=2000 ...............................................\n",
      "[CV] .................. n_estimators=2000, score=-1091.230798 -  22.0s\n",
      "[CV] n_estimators=2000 ...............................................\n",
      "[CV] .................. n_estimators=2000, score=-1097.881710 -  21.8s\n"
     ]
    },
    {
     "name": "stderr",
     "output_type": "stream",
     "text": [
      "[Parallel(n_jobs=1)]: Done  25 out of  25 | elapsed:  4.0min finished\n"
     ]
    },
    {
     "data": {
      "text/plain": [
       "GridSearchCV(cv=5, error_score='raise',\n",
       "       estimator=XGBRegressor(base_score=0.5, colsample_bylevel=1, colsample_bytree=0.5,\n",
       "       gamma=0, learning_rate=0.08, max_delta_step=0, max_depth=3,\n",
       "       min_child_weight=3, missing=None, n_estimators=500, nthread=8,\n",
       "       objective='reg:linear', reg_alpha=100, reg_lambda=1,\n",
       "       scale_pos_weight=1, seed=42, silent=True, subsample=0.7),\n",
       "       fit_params={}, iid=True, n_jobs=1,\n",
       "       param_grid={'n_estimators': [100, 500, 750, 1000, 2000]},\n",
       "       pre_dispatch='2*n_jobs', refit=True,\n",
       "       scoring='neg_mean_absolute_error', verbose=3)"
      ]
     },
     "execution_count": 3,
     "metadata": {},
     "output_type": "execute_result"
    }
   ],
   "source": [
    "#cv_params = {'max_depth': [1,3,5], 'min_child_weight': [1,3,5]}\n",
    "#ind_params = {'learning_rate': 0.1, 'n_estimators': 1000, 'seed':42, 'subsample': 0.8, 'colsample_bytree': 0.8, \n",
    "#             'objective': 'reg:linear'}\n",
    "#optimized_GBM = GridSearchCV(xgb.XGBRegressor(**ind_params), \n",
    "#                            cv_params, \n",
    "#                           scoring = 'neg_mean_absolute_error', \n",
    "#                            cv = 2, \n",
    "#                            n_jobs = -1)\n",
    "\n",
    "#print \"Check 1\"\n",
    "# Optimize for accuracy since that is the metric used in the Adult Data Set notation\n",
    "#optimized_GBM.fit(final_train, y_train)\n",
    "#print \"Check 2\"\n",
    "gsearch0 = GridSearchCV(cv=5, \n",
    "             error_score='raise', \n",
    "             estimator= XGBRegressor(max_depth=3, \n",
    "                                     learning_rate=0.08, \n",
    "                                     n_estimators=500, \n",
    "                                     silent=True, \n",
    "                                     objective='reg:linear', \n",
    "                                     nthread=8, \n",
    "                                     gamma=0, \n",
    "                                     min_child_weight=3, \n",
    "                                     max_delta_step=0, \n",
    "                                     subsample=0.7, \n",
    "                                     colsample_bytree=0.5, \n",
    "                                     colsample_bylevel=1, \n",
    "                                     reg_alpha=100, \n",
    "                                     reg_lambda=1, \n",
    "                                     scale_pos_weight=1, \n",
    "                                     base_score=0.5, \n",
    "                                     seed=42, \n",
    "                                     missing=None),\n",
    "             fit_params={}, \n",
    "             iid=True, \n",
    "             n_jobs=1,\n",
    "             param_grid={'n_estimators': [100,500,750,1000,2000]},\n",
    "             #pre_dispatch='2*n_jobs', \n",
    "             #pre_dispatch=2, \n",
    "             refit=True, \n",
    "             scoring='neg_mean_absolute_error', \n",
    "             verbose=3)\n",
    "\n",
    "gsearch0.fit(final_train,y_train)\n",
    "\n",
    "\n"
   ]
  },
  {
   "cell_type": "code",
   "execution_count": 4,
   "metadata": {
    "collapsed": false
   },
   "outputs": [
    {
     "data": {
      "text/plain": [
       "([mean: -1128.40110, std: 17.50759, params: {'n_estimators': 100},\n",
       "  mean: -1088.20782, std: 15.68490, params: {'n_estimators': 500},\n",
       "  mean: -1088.69271, std: 14.32602, params: {'n_estimators': 750},\n",
       "  mean: -1090.48969, std: 14.11688, params: {'n_estimators': 1000},\n",
       "  mean: -1103.60339, std: 13.23925, params: {'n_estimators': 2000}],\n",
       " {'n_estimators': 500},\n",
       " -1088.207817512379)"
      ]
     },
     "execution_count": 4,
     "metadata": {},
     "output_type": "execute_result"
    }
   ],
   "source": [
    "gsearch0.grid_scores_, gsearch0.best_params_, gsearch0.best_score_"
   ]
  },
  {
   "cell_type": "code",
   "execution_count": 5,
   "metadata": {
    "collapsed": false,
    "scrolled": true
   },
   "outputs": [
    {
     "name": "stdout",
     "output_type": "stream",
     "text": [
      "Fitting 5 folds for each of 16 candidates, totalling 80 fits\n",
      "[CV] max_depth=1, min_child_weight=1 .................................\n",
      "[CV] .... max_depth=1, min_child_weight=1, score=-1126.563325 -   2.0s\n",
      "[CV] max_depth=1, min_child_weight=1 .................................\n"
     ]
    },
    {
     "name": "stderr",
     "output_type": "stream",
     "text": [
      "[Parallel(n_jobs=1)]: Done   1 out of   1 | elapsed:    2.0s remaining:    0.0s\n"
     ]
    },
    {
     "name": "stdout",
     "output_type": "stream",
     "text": [
      "[CV] .... max_depth=1, min_child_weight=1, score=-1161.213219 -   1.9s\n",
      "[CV] max_depth=1, min_child_weight=1 .................................\n"
     ]
    },
    {
     "name": "stderr",
     "output_type": "stream",
     "text": [
      "[Parallel(n_jobs=1)]: Done   2 out of   2 | elapsed:    3.9s remaining:    0.0s\n"
     ]
    },
    {
     "name": "stdout",
     "output_type": "stream",
     "text": [
      "[CV] .... max_depth=1, min_child_weight=1, score=-1162.334570 -   1.9s\n",
      "[CV] max_depth=1, min_child_weight=1 .................................\n",
      "[CV] .... max_depth=1, min_child_weight=1, score=-1132.956642 -   1.9s\n",
      "[CV] max_depth=1, min_child_weight=1 .................................\n",
      "[CV] .... max_depth=1, min_child_weight=1, score=-1136.446329 -   1.9s\n",
      "[CV] max_depth=1, min_child_weight=3 .................................\n",
      "[CV] .... max_depth=1, min_child_weight=3, score=-1126.563325 -   1.9s\n",
      "[CV] max_depth=1, min_child_weight=3 .................................\n",
      "[CV] .... max_depth=1, min_child_weight=3, score=-1161.213219 -   1.9s\n",
      "[CV] max_depth=1, min_child_weight=3 .................................\n",
      "[CV] .... max_depth=1, min_child_weight=3, score=-1162.334570 -   1.9s\n",
      "[CV] max_depth=1, min_child_weight=3 .................................\n",
      "[CV] .... max_depth=1, min_child_weight=3, score=-1132.956642 -   2.0s\n",
      "[CV] max_depth=1, min_child_weight=3 .................................\n",
      "[CV] .... max_depth=1, min_child_weight=3, score=-1136.446329 -   1.9s\n",
      "[CV] max_depth=1, min_child_weight=5 .................................\n",
      "[CV] .... max_depth=1, min_child_weight=5, score=-1126.563325 -   1.9s\n",
      "[CV] max_depth=1, min_child_weight=5 .................................\n",
      "[CV] .... max_depth=1, min_child_weight=5, score=-1161.213219 -   1.9s\n",
      "[CV] max_depth=1, min_child_weight=5 .................................\n",
      "[CV] .... max_depth=1, min_child_weight=5, score=-1162.334570 -   1.9s\n",
      "[CV] max_depth=1, min_child_weight=5 .................................\n",
      "[CV] .... max_depth=1, min_child_weight=5, score=-1132.956642 -   2.0s\n",
      "[CV] max_depth=1, min_child_weight=5 .................................\n",
      "[CV] .... max_depth=1, min_child_weight=5, score=-1136.446329 -   1.9s\n",
      "[CV] max_depth=1, min_child_weight=7 .................................\n",
      "[CV] .... max_depth=1, min_child_weight=7, score=-1126.563325 -   1.9s\n",
      "[CV] max_depth=1, min_child_weight=7 .................................\n",
      "[CV] .... max_depth=1, min_child_weight=7, score=-1161.213219 -   1.9s\n",
      "[CV] max_depth=1, min_child_weight=7 .................................\n",
      "[CV] .... max_depth=1, min_child_weight=7, score=-1162.334570 -   1.9s\n",
      "[CV] max_depth=1, min_child_weight=7 .................................\n",
      "[CV] .... max_depth=1, min_child_weight=7, score=-1133.339182 -   1.9s\n",
      "[CV] max_depth=1, min_child_weight=7 .................................\n",
      "[CV] .... max_depth=1, min_child_weight=7, score=-1136.446329 -   1.9s\n",
      "[CV] max_depth=3, min_child_weight=1 .................................\n",
      "[CV] .... max_depth=3, min_child_weight=1, score=-1074.237138 -   3.3s\n",
      "[CV] max_depth=3, min_child_weight=1 .................................\n",
      "[CV] .... max_depth=3, min_child_weight=1, score=-1110.833256 -   3.3s\n",
      "[CV] max_depth=3, min_child_weight=1 .................................\n",
      "[CV] .... max_depth=3, min_child_weight=1, score=-1110.262828 -   3.4s\n",
      "[CV] max_depth=3, min_child_weight=1 .................................\n",
      "[CV] .... max_depth=3, min_child_weight=1, score=-1076.898706 -   3.4s\n",
      "[CV] max_depth=3, min_child_weight=1 .................................\n",
      "[CV] .... max_depth=3, min_child_weight=1, score=-1083.296559 -   3.4s\n",
      "[CV] max_depth=3, min_child_weight=3 .................................\n",
      "[CV] .... max_depth=3, min_child_weight=3, score=-1072.874252 -   3.4s\n",
      "[CV] max_depth=3, min_child_weight=3 .................................\n",
      "[CV] .... max_depth=3, min_child_weight=3, score=-1109.282809 -   3.3s\n",
      "[CV] max_depth=3, min_child_weight=3 .................................\n",
      "[CV] .... max_depth=3, min_child_weight=3, score=-1110.718019 -   3.2s\n",
      "[CV] max_depth=3, min_child_weight=3 .................................\n",
      "[CV] .... max_depth=3, min_child_weight=3, score=-1072.758629 -   3.3s\n",
      "[CV] max_depth=3, min_child_weight=3 .................................\n",
      "[CV] .... max_depth=3, min_child_weight=3, score=-1081.950023 -   3.4s\n",
      "[CV] max_depth=3, min_child_weight=5 .................................\n",
      "[CV] .... max_depth=3, min_child_weight=5, score=-1073.789127 -   3.3s\n",
      "[CV] max_depth=3, min_child_weight=5 .................................\n",
      "[CV] .... max_depth=3, min_child_weight=5, score=-1111.331054 -   3.4s\n",
      "[CV] max_depth=3, min_child_weight=5 .................................\n",
      "[CV] .... max_depth=3, min_child_weight=5, score=-1108.944563 -   3.3s\n",
      "[CV] max_depth=3, min_child_weight=5 .................................\n",
      "[CV] .... max_depth=3, min_child_weight=5, score=-1075.492515 -   3.3s\n",
      "[CV] max_depth=3, min_child_weight=5 .................................\n",
      "[CV] .... max_depth=3, min_child_weight=5, score=-1082.699233 -   3.3s\n",
      "[CV] max_depth=3, min_child_weight=7 .................................\n",
      "[CV] .... max_depth=3, min_child_weight=7, score=-1072.791179 -   3.3s\n",
      "[CV] max_depth=3, min_child_weight=7 .................................\n",
      "[CV] .... max_depth=3, min_child_weight=7, score=-1108.113986 -   3.3s\n",
      "[CV] max_depth=3, min_child_weight=7 .................................\n",
      "[CV] .... max_depth=3, min_child_weight=7, score=-1112.654194 -   3.4s\n",
      "[CV] max_depth=3, min_child_weight=7 .................................\n",
      "[CV] .... max_depth=3, min_child_weight=7, score=-1076.094786 -   3.3s\n",
      "[CV] max_depth=3, min_child_weight=7 .................................\n",
      "[CV] .... max_depth=3, min_child_weight=7, score=-1083.300799 -   3.3s\n",
      "[CV] max_depth=5, min_child_weight=1 .................................\n",
      "[CV] .... max_depth=5, min_child_weight=1, score=-1073.567155 -   4.9s\n",
      "[CV] max_depth=5, min_child_weight=1 .................................\n",
      "[CV] .... max_depth=5, min_child_weight=1, score=-1105.347035 -   4.8s\n",
      "[CV] max_depth=5, min_child_weight=1 .................................\n",
      "[CV] .... max_depth=5, min_child_weight=1, score=-1110.589530 -   5.0s\n",
      "[CV] max_depth=5, min_child_weight=1 .................................\n",
      "[CV] .... max_depth=5, min_child_weight=1, score=-1070.432511 -   4.9s\n",
      "[CV] max_depth=5, min_child_weight=1 .................................\n",
      "[CV] .... max_depth=5, min_child_weight=1, score=-1087.120965 -   4.8s\n",
      "[CV] max_depth=5, min_child_weight=3 .................................\n",
      "[CV] .... max_depth=5, min_child_weight=3, score=-1074.376570 -   4.8s\n",
      "[CV] max_depth=5, min_child_weight=3 .................................\n",
      "[CV] .... max_depth=5, min_child_weight=3, score=-1106.251472 -   4.8s\n",
      "[CV] max_depth=5, min_child_weight=3 .................................\n",
      "[CV] .... max_depth=5, min_child_weight=3, score=-1112.844308 -   4.9s\n",
      "[CV] max_depth=5, min_child_weight=3 .................................\n",
      "[CV] .... max_depth=5, min_child_weight=3, score=-1072.165712 -   4.8s\n",
      "[CV] max_depth=5, min_child_weight=3 .................................\n",
      "[CV] .... max_depth=5, min_child_weight=3, score=-1087.331965 -   4.8s\n",
      "[CV] max_depth=5, min_child_weight=5 .................................\n",
      "[CV] .... max_depth=5, min_child_weight=5, score=-1077.258493 -   4.8s\n",
      "[CV] max_depth=5, min_child_weight=5 .................................\n",
      "[CV] .... max_depth=5, min_child_weight=5, score=-1106.431305 -   4.8s\n",
      "[CV] max_depth=5, min_child_weight=5 .................................\n",
      "[CV] .... max_depth=5, min_child_weight=5, score=-1112.091211 -   4.8s\n",
      "[CV] max_depth=5, min_child_weight=5 .................................\n",
      "[CV] .... max_depth=5, min_child_weight=5, score=-1074.121960 -   4.8s\n",
      "[CV] max_depth=5, min_child_weight=5 .................................\n",
      "[CV] .... max_depth=5, min_child_weight=5, score=-1086.808786 -   4.8s\n",
      "[CV] max_depth=5, min_child_weight=7 .................................\n",
      "[CV] .... max_depth=5, min_child_weight=7, score=-1075.286155 -   4.8s\n",
      "[CV] max_depth=5, min_child_weight=7 .................................\n",
      "[CV] .... max_depth=5, min_child_weight=7, score=-1110.328809 -   4.8s\n",
      "[CV] max_depth=5, min_child_weight=7 .................................\n",
      "[CV] .... max_depth=5, min_child_weight=7, score=-1109.543608 -   4.8s\n",
      "[CV] max_depth=5, min_child_weight=7 .................................\n",
      "[CV] .... max_depth=5, min_child_weight=7, score=-1071.942555 -   4.8s\n",
      "[CV] max_depth=5, min_child_weight=7 .................................\n",
      "[CV] .... max_depth=5, min_child_weight=7, score=-1090.828028 -   4.8s\n",
      "[CV] max_depth=7, min_child_weight=1 .................................\n",
      "[CV] .... max_depth=7, min_child_weight=1, score=-1090.225310 -   6.4s\n",
      "[CV] max_depth=7, min_child_weight=1 .................................\n",
      "[CV] .... max_depth=7, min_child_weight=1, score=-1121.969830 -   6.5s\n",
      "[CV] max_depth=7, min_child_weight=1 .................................\n",
      "[CV] .... max_depth=7, min_child_weight=1, score=-1113.792590 -   6.4s\n",
      "[CV] max_depth=7, min_child_weight=1 .................................\n",
      "[CV] .... max_depth=7, min_child_weight=1, score=-1077.763269 -   6.5s\n",
      "[CV] max_depth=7, min_child_weight=1 .................................\n",
      "[CV] .... max_depth=7, min_child_weight=1, score=-1098.524466 -   6.5s\n",
      "[CV] max_depth=7, min_child_weight=3 .................................\n",
      "[CV] .... max_depth=7, min_child_weight=3, score=-1084.746581 -   6.4s\n",
      "[CV] max_depth=7, min_child_weight=3 .................................\n",
      "[CV] .... max_depth=7, min_child_weight=3, score=-1123.059579 -   6.4s\n",
      "[CV] max_depth=7, min_child_weight=3 .................................\n",
      "[CV] .... max_depth=7, min_child_weight=3, score=-1117.675039 -   6.4s\n",
      "[CV] max_depth=7, min_child_weight=3 .................................\n",
      "[CV] .... max_depth=7, min_child_weight=3, score=-1077.560209 -   6.4s\n",
      "[CV] max_depth=7, min_child_weight=3 .................................\n",
      "[CV] .... max_depth=7, min_child_weight=3, score=-1099.067599 -   6.5s\n",
      "[CV] max_depth=7, min_child_weight=5 .................................\n",
      "[CV] .... max_depth=7, min_child_weight=5, score=-1080.280099 -   6.4s\n",
      "[CV] max_depth=7, min_child_weight=5 .................................\n",
      "[CV] .... max_depth=7, min_child_weight=5, score=-1119.838918 -   6.4s\n",
      "[CV] max_depth=7, min_child_weight=5 .................................\n",
      "[CV] .... max_depth=7, min_child_weight=5, score=-1115.847971 -   6.4s\n",
      "[CV] max_depth=7, min_child_weight=5 .................................\n",
      "[CV] .... max_depth=7, min_child_weight=5, score=-1079.222252 -   6.4s\n",
      "[CV] max_depth=7, min_child_weight=5 .................................\n",
      "[CV] .... max_depth=7, min_child_weight=5, score=-1091.549079 -   6.4s\n",
      "[CV] max_depth=7, min_child_weight=7 .................................\n",
      "[CV] .... max_depth=7, min_child_weight=7, score=-1082.494850 -   6.4s\n",
      "[CV] max_depth=7, min_child_weight=7 .................................\n",
      "[CV] .... max_depth=7, min_child_weight=7, score=-1110.322201 -   6.4s\n",
      "[CV] max_depth=7, min_child_weight=7 .................................\n",
      "[CV] .... max_depth=7, min_child_weight=7, score=-1108.729653 -   6.4s\n",
      "[CV] max_depth=7, min_child_weight=7 .................................\n",
      "[CV] .... max_depth=7, min_child_weight=7, score=-1079.200469 -   6.4s\n",
      "[CV] max_depth=7, min_child_weight=7 .................................\n",
      "[CV] .... max_depth=7, min_child_weight=7, score=-1096.898937 -   6.3s\n"
     ]
    },
    {
     "name": "stderr",
     "output_type": "stream",
     "text": [
      "[Parallel(n_jobs=1)]: Done  80 out of  80 | elapsed:  5.5min finished\n"
     ]
    },
    {
     "data": {
      "text/plain": [
       "GridSearchCV(cv=5, error_score='raise',\n",
       "       estimator=XGBRegressor(base_score=0.5, colsample_bylevel=1, colsample_bytree=0.3,\n",
       "       gamma=0, learning_rate=0.08, max_delta_step=0, max_depth=3,\n",
       "       min_child_weight=7, missing=None, n_estimators=500, nthread=8,\n",
       "       objective='reg:linear', reg_alpha=1, reg_lambda=1,\n",
       "       scale_pos_weight=1, seed=42, silent=True, subsample=1),\n",
       "       fit_params={}, iid=True, n_jobs=1,\n",
       "       param_grid={'max_depth': [1, 3, 5, 7], 'min_child_weight': [1, 3, 5, 7]},\n",
       "       pre_dispatch='2*n_jobs', refit=True,\n",
       "       scoring='neg_mean_absolute_error', verbose=3)"
      ]
     },
     "execution_count": 5,
     "metadata": {},
     "output_type": "execute_result"
    }
   ],
   "source": [
    "#cv_params = {'max_depth': [1,3,5], 'min_child_weight': [1,3,5]}\n",
    "#ind_params = {'learning_rate': 0.1, 'n_estimators': 1000, 'seed':42, 'subsample': 0.8, 'colsample_bytree': 0.8, \n",
    "#             'objective': 'reg:linear'}\n",
    "#optimized_GBM = GridSearchCV(xgb.XGBRegressor(**ind_params), \n",
    "#                            cv_params, \n",
    "#                           scoring = 'neg_mean_absolute_error', \n",
    "#                            cv = 2, \n",
    "#                            n_jobs = -1)\n",
    "\n",
    "#print \"Check 1\"\n",
    "# Optimize for accuracy since that is the metric used in the Adult Data Set notation\n",
    "#optimized_GBM.fit(final_train, y_train)\n",
    "#print \"Check 2\"\n",
    "gsearch4 = GridSearchCV(cv=5, \n",
    "             error_score='raise', \n",
    "             estimator= XGBRegressor(max_depth=3, \n",
    "                                     learning_rate=0.08, \n",
    "                                     n_estimators=gsearch0.best_params_['n_estimators'], \n",
    "                                     silent=True, \n",
    "                                     objective='reg:linear', \n",
    "                                     nthread=8, \n",
    "                                     gamma=0, \n",
    "                                     min_child_weight=7, \n",
    "                                     max_delta_step=0, \n",
    "                                     subsample=1, \n",
    "                                     colsample_bytree=0.3, \n",
    "                                     colsample_bylevel=1, \n",
    "                                     reg_alpha=1, \n",
    "                                     reg_lambda=1, \n",
    "                                     scale_pos_weight=1, \n",
    "                                     base_score=0.5, \n",
    "                                     seed=42, \n",
    "                                     missing=None),\n",
    "             fit_params={}, \n",
    "             iid=True, \n",
    "             n_jobs=1,\n",
    "             param_grid={'max_depth': [1,3,5,7],'min_child_weight': [1,3,5,7]},\n",
    "             #pre_dispatch='2*n_jobs', \n",
    "             #pre_dispatch=2, \n",
    "             refit=True, \n",
    "             scoring='neg_mean_absolute_error', \n",
    "             verbose=3)\n",
    "\n",
    "gsearch4.fit(final_train,y_train)\n",
    "\n",
    "\n"
   ]
  },
  {
   "cell_type": "code",
   "execution_count": 6,
   "metadata": {
    "collapsed": false
   },
   "outputs": [
    {
     "data": {
      "text/plain": [
       "([mean: -1143.90188, std: 14.93623, params: {'max_depth': 1, 'min_child_weight': 1},\n",
       "  mean: -1143.90188, std: 14.93623, params: {'max_depth': 1, 'min_child_weight': 3},\n",
       "  mean: -1143.90188, std: 14.93623, params: {'max_depth': 1, 'min_child_weight': 5},\n",
       "  mean: -1143.97838, std: 14.88085, params: {'max_depth': 1, 'min_child_weight': 7},\n",
       "  mean: -1091.10478, std: 16.14647, params: {'max_depth': 3, 'min_child_weight': 1},\n",
       "  mean: -1089.51584, std: 17.06021, params: {'max_depth': 3, 'min_child_weight': 3},\n",
       "  mean: -1090.45040, std: 16.36736, params: {'max_depth': 3, 'min_child_weight': 5},\n",
       "  mean: -1090.59003, std: 16.57685, params: {'max_depth': 3, 'min_child_weight': 7},\n",
       "  mean: -1089.41058, std: 16.24156, params: {'max_depth': 5, 'min_child_weight': 1},\n",
       "  mean: -1090.59313, std: 16.45284, params: {'max_depth': 5, 'min_child_weight': 3},\n",
       "  mean: -1091.34159, std: 15.32085, params: {'max_depth': 5, 'min_child_weight': 5},\n",
       "  mean: -1091.58495, std: 16.28431, params: {'max_depth': 5, 'min_child_weight': 7},\n",
       "  mean: -1100.45454, std: 15.90011, params: {'max_depth': 7, 'min_child_weight': 1},\n",
       "  mean: -1100.42095, std: 17.77831, params: {'max_depth': 7, 'min_child_weight': 3},\n",
       "  mean: -1097.34674, std: 17.32959, params: {'max_depth': 7, 'min_child_weight': 5},\n",
       "  mean: -1095.52852, std: 12.89560, params: {'max_depth': 7, 'min_child_weight': 7}],\n",
       " {'max_depth': 5, 'min_child_weight': 1},\n",
       " -1089.4105811493012)"
      ]
     },
     "execution_count": 6,
     "metadata": {},
     "output_type": "execute_result"
    }
   ],
   "source": [
    "gsearch4.grid_scores_, gsearch4.best_params_, gsearch4.best_score_"
   ]
  },
  {
   "cell_type": "code",
   "execution_count": 7,
   "metadata": {
    "collapsed": false,
    "scrolled": true
   },
   "outputs": [
    {
     "name": "stdout",
     "output_type": "stream",
     "text": [
      "Fitting 5 folds for each of 7 candidates, totalling 35 fits\n",
      "[CV] gamma=0 .........................................................\n",
      "[CV] ............................ gamma=0, score=-1073.567155 -   4.9s\n",
      "[CV] gamma=0 .........................................................\n"
     ]
    },
    {
     "name": "stderr",
     "output_type": "stream",
     "text": [
      "[Parallel(n_jobs=1)]: Done   1 out of   1 | elapsed:    4.9s remaining:    0.0s\n"
     ]
    },
    {
     "name": "stdout",
     "output_type": "stream",
     "text": [
      "[CV] ............................ gamma=0, score=-1105.347035 -   4.8s\n",
      "[CV] gamma=0 .........................................................\n"
     ]
    },
    {
     "name": "stderr",
     "output_type": "stream",
     "text": [
      "[Parallel(n_jobs=1)]: Done   2 out of   2 | elapsed:    9.7s remaining:    0.0s\n"
     ]
    },
    {
     "name": "stdout",
     "output_type": "stream",
     "text": [
      "[CV] ............................ gamma=0, score=-1110.589530 -   4.8s\n",
      "[CV] gamma=0 .........................................................\n",
      "[CV] ............................ gamma=0, score=-1070.432511 -   4.8s\n",
      "[CV] gamma=0 .........................................................\n",
      "[CV] ............................ gamma=0, score=-1087.120965 -   4.9s\n",
      "[CV] gamma=0.1 .......................................................\n",
      "[CV] .......................... gamma=0.1, score=-1073.567155 -   4.8s\n",
      "[CV] gamma=0.1 .......................................................\n",
      "[CV] .......................... gamma=0.1, score=-1105.347035 -   4.8s\n",
      "[CV] gamma=0.1 .......................................................\n",
      "[CV] .......................... gamma=0.1, score=-1110.589530 -   4.8s\n",
      "[CV] gamma=0.1 .......................................................\n",
      "[CV] .......................... gamma=0.1, score=-1070.432511 -   4.8s\n",
      "[CV] gamma=0.1 .......................................................\n",
      "[CV] .......................... gamma=0.1, score=-1087.120965 -   4.8s\n",
      "[CV] gamma=0.2 .......................................................\n",
      "[CV] .......................... gamma=0.2, score=-1073.567155 -   4.8s\n",
      "[CV] gamma=0.2 .......................................................\n",
      "[CV] .......................... gamma=0.2, score=-1105.347035 -   4.8s\n",
      "[CV] gamma=0.2 .......................................................\n",
      "[CV] .......................... gamma=0.2, score=-1110.589530 -   4.8s\n",
      "[CV] gamma=0.2 .......................................................\n",
      "[CV] .......................... gamma=0.2, score=-1070.432511 -   4.8s\n",
      "[CV] gamma=0.2 .......................................................\n",
      "[CV] .......................... gamma=0.2, score=-1087.120965 -   4.8s\n",
      "[CV] gamma=0.3 .......................................................\n",
      "[CV] .......................... gamma=0.3, score=-1073.567155 -   4.8s\n",
      "[CV] gamma=0.3 .......................................................\n",
      "[CV] .......................... gamma=0.3, score=-1105.347035 -   4.8s\n",
      "[CV] gamma=0.3 .......................................................\n",
      "[CV] .......................... gamma=0.3, score=-1110.589530 -   4.8s\n",
      "[CV] gamma=0.3 .......................................................\n",
      "[CV] .......................... gamma=0.3, score=-1070.432511 -   4.8s\n",
      "[CV] gamma=0.3 .......................................................\n",
      "[CV] .......................... gamma=0.3, score=-1087.120965 -   4.8s\n",
      "[CV] gamma=0.5 .......................................................\n",
      "[CV] .......................... gamma=0.5, score=-1073.567155 -   4.8s\n",
      "[CV] gamma=0.5 .......................................................\n",
      "[CV] .......................... gamma=0.5, score=-1105.347035 -   4.8s\n",
      "[CV] gamma=0.5 .......................................................\n",
      "[CV] .......................... gamma=0.5, score=-1110.589530 -   4.8s\n",
      "[CV] gamma=0.5 .......................................................\n",
      "[CV] .......................... gamma=0.5, score=-1070.432511 -   4.8s\n",
      "[CV] gamma=0.5 .......................................................\n",
      "[CV] .......................... gamma=0.5, score=-1087.120965 -   4.9s\n",
      "[CV] gamma=0.7 .......................................................\n",
      "[CV] .......................... gamma=0.7, score=-1073.567155 -   4.8s\n",
      "[CV] gamma=0.7 .......................................................\n",
      "[CV] .......................... gamma=0.7, score=-1105.347035 -   4.8s\n",
      "[CV] gamma=0.7 .......................................................\n",
      "[CV] .......................... gamma=0.7, score=-1110.589530 -   4.8s\n",
      "[CV] gamma=0.7 .......................................................\n",
      "[CV] .......................... gamma=0.7, score=-1070.432511 -   4.9s\n",
      "[CV] gamma=0.7 .......................................................\n",
      "[CV] .......................... gamma=0.7, score=-1087.120965 -   4.9s\n",
      "[CV] gamma=1.0 .......................................................\n",
      "[CV] .......................... gamma=1.0, score=-1073.567155 -   4.8s\n",
      "[CV] gamma=1.0 .......................................................\n",
      "[CV] .......................... gamma=1.0, score=-1105.347035 -   4.8s\n",
      "[CV] gamma=1.0 .......................................................\n",
      "[CV] .......................... gamma=1.0, score=-1110.589530 -   4.8s\n",
      "[CV] gamma=1.0 .......................................................\n",
      "[CV] .......................... gamma=1.0, score=-1070.432511 -   4.9s\n",
      "[CV] gamma=1.0 .......................................................\n",
      "[CV] .......................... gamma=1.0, score=-1087.120965 -   4.9s\n"
     ]
    },
    {
     "name": "stderr",
     "output_type": "stream",
     "text": [
      "[Parallel(n_jobs=1)]: Done  35 out of  35 | elapsed:  2.8min finished\n"
     ]
    },
    {
     "data": {
      "text/plain": [
       "GridSearchCV(cv=5, error_score='raise',\n",
       "       estimator=XGBRegressor(base_score=0.5, colsample_bylevel=1, colsample_bytree=0.3,\n",
       "       gamma=0, learning_rate=0.08, max_delta_step=0, max_depth=5,\n",
       "       min_child_weight=1, missing=None, n_estimators=500, nthread=8,\n",
       "       objective='reg:linear', reg_alpha=1, reg_lambda=1,\n",
       "       scale_pos_weight=1, seed=42, silent=True, subsample=1),\n",
       "       fit_params={}, iid=True, n_jobs=1,\n",
       "       param_grid={'gamma': [0, 0.1, 0.2, 0.3, 0.5, 0.7, 1.0]},\n",
       "       pre_dispatch='2*n_jobs', refit=True,\n",
       "       scoring='neg_mean_absolute_error', verbose=3)"
      ]
     },
     "execution_count": 7,
     "metadata": {},
     "output_type": "execute_result"
    }
   ],
   "source": [
    "#cv_params = {'max_depth': [1,3,5], 'min_child_weight': [1,3,5]}\n",
    "#ind_params = {'learning_rate': 0.1, 'n_estimators': 1000, 'seed':42, 'subsample': 0.8, 'colsample_bytree': 0.8, \n",
    "#             'objective': 'reg:linear'}\n",
    "#optimized_GBM = GridSearchCV(xgb.XGBRegressor(**ind_params), \n",
    "#                            cv_params, \n",
    "#                           scoring = 'neg_mean_absolute_error', \n",
    "#                            cv = 2, \n",
    "#                            n_jobs = -1)\n",
    "\n",
    "#print \"Check 1\"\n",
    "# Optimize for accuracy since that is the metric used in the Adult Data Set notation\n",
    "#optimized_GBM.fit(final_train, y_train)\n",
    "#print \"Check 2\"\n",
    "gsearch1 = GridSearchCV(cv=5, \n",
    "             error_score='raise', \n",
    "             estimator= XGBRegressor(max_depth=gsearch4.best_params_['max_depth'], \n",
    "                                     learning_rate=0.08, \n",
    "                                     n_estimators=gsearch0.best_params_['n_estimators'], \n",
    "                                     silent=True, \n",
    "                                     objective='reg:linear', \n",
    "                                     nthread=8, \n",
    "                                     gamma=0, \n",
    "                                     min_child_weight=gsearch4.best_params_['min_child_weight'], \n",
    "                                     max_delta_step=0, \n",
    "                                     subsample=1, \n",
    "                                     colsample_bytree=0.3, \n",
    "                                     colsample_bylevel=1, \n",
    "                                     reg_alpha=1, \n",
    "                                     reg_lambda=1, \n",
    "                                     scale_pos_weight=1, \n",
    "                                     base_score=0.5, \n",
    "                                     seed=42, \n",
    "                                     missing=None),\n",
    "             fit_params={}, \n",
    "             iid=True, \n",
    "             n_jobs=1,\n",
    "             param_grid={'gamma': [0,0.1,0.2,0.3,0.5,0.7,1.]},\n",
    "             #pre_dispatch='2*n_jobs', \n",
    "             #pre_dispatch=2, \n",
    "             refit=True, \n",
    "             scoring='neg_mean_absolute_error', \n",
    "             verbose=3)\n",
    "\n",
    "gsearch1.fit(final_train,y_train)\n",
    "\n",
    "\n"
   ]
  },
  {
   "cell_type": "code",
   "execution_count": 8,
   "metadata": {
    "collapsed": false
   },
   "outputs": [
    {
     "data": {
      "text/plain": [
       "([mean: -1089.41058, std: 16.24156, params: {'gamma': 0},\n",
       "  mean: -1089.41058, std: 16.24156, params: {'gamma': 0.1},\n",
       "  mean: -1089.41058, std: 16.24156, params: {'gamma': 0.2},\n",
       "  mean: -1089.41058, std: 16.24156, params: {'gamma': 0.3},\n",
       "  mean: -1089.41058, std: 16.24156, params: {'gamma': 0.5},\n",
       "  mean: -1089.41058, std: 16.24156, params: {'gamma': 0.7},\n",
       "  mean: -1089.41058, std: 16.24156, params: {'gamma': 1.0}],\n",
       " {'gamma': 0},\n",
       " -1089.4105811493012)"
      ]
     },
     "execution_count": 8,
     "metadata": {},
     "output_type": "execute_result"
    }
   ],
   "source": [
    "gsearch1.grid_scores_, gsearch1.best_params_, gsearch1.best_score_"
   ]
  },
  {
   "cell_type": "code",
   "execution_count": 9,
   "metadata": {
    "collapsed": false,
    "scrolled": true
   },
   "outputs": [
    {
     "name": "stdout",
     "output_type": "stream",
     "text": [
      "Fitting 5 folds for each of 25 candidates, totalling 125 fits\n",
      "[CV] subsample=0.1, colsample_bytree=0.1 .............................\n",
      "[CV]  subsample=0.1, colsample_bytree=0.1, score=-1143.800880 -   2.3s\n",
      "[CV] subsample=0.1, colsample_bytree=0.1 .............................\n"
     ]
    },
    {
     "name": "stderr",
     "output_type": "stream",
     "text": [
      "[Parallel(n_jobs=1)]: Done   1 out of   1 | elapsed:    2.3s remaining:    0.0s\n"
     ]
    },
    {
     "name": "stdout",
     "output_type": "stream",
     "text": [
      "[CV]  subsample=0.1, colsample_bytree=0.1, score=-1167.066089 -   2.3s\n",
      "[CV] subsample=0.1, colsample_bytree=0.1 .............................\n"
     ]
    },
    {
     "name": "stderr",
     "output_type": "stream",
     "text": [
      "[Parallel(n_jobs=1)]: Done   2 out of   2 | elapsed:    4.6s remaining:    0.0s\n"
     ]
    },
    {
     "name": "stdout",
     "output_type": "stream",
     "text": [
      "[CV]  subsample=0.1, colsample_bytree=0.1, score=-1160.267236 -   2.3s\n",
      "[CV] subsample=0.1, colsample_bytree=0.1 .............................\n",
      "[CV]  subsample=0.1, colsample_bytree=0.1, score=-1131.660790 -   2.2s\n",
      "[CV] subsample=0.1, colsample_bytree=0.1 .............................\n",
      "[CV]  subsample=0.1, colsample_bytree=0.1, score=-1137.872171 -   2.3s\n",
      "[CV] subsample=0.3, colsample_bytree=0.1 .............................\n",
      "[CV]  subsample=0.3, colsample_bytree=0.1, score=-1105.753721 -   2.8s\n",
      "[CV] subsample=0.3, colsample_bytree=0.1 .............................\n",
      "[CV]  subsample=0.3, colsample_bytree=0.1, score=-1123.944834 -   2.9s\n",
      "[CV] subsample=0.3, colsample_bytree=0.1 .............................\n",
      "[CV]  subsample=0.3, colsample_bytree=0.1, score=-1122.946639 -   2.9s\n",
      "[CV] subsample=0.3, colsample_bytree=0.1 .............................\n",
      "[CV]  subsample=0.3, colsample_bytree=0.1, score=-1101.663655 -   2.9s\n",
      "[CV] subsample=0.3, colsample_bytree=0.1 .............................\n",
      "[CV]  subsample=0.3, colsample_bytree=0.1, score=-1103.452222 -   2.8s\n",
      "[CV] subsample=0.5, colsample_bytree=0.1 .............................\n",
      "[CV]  subsample=0.5, colsample_bytree=0.1, score=-1099.559071 -   3.3s\n",
      "[CV] subsample=0.5, colsample_bytree=0.1 .............................\n",
      "[CV]  subsample=0.5, colsample_bytree=0.1, score=-1112.045178 -   3.3s\n",
      "[CV] subsample=0.5, colsample_bytree=0.1 .............................\n",
      "[CV]  subsample=0.5, colsample_bytree=0.1, score=-1118.301419 -   3.3s\n",
      "[CV] subsample=0.5, colsample_bytree=0.1 .............................\n",
      "[CV]  subsample=0.5, colsample_bytree=0.1, score=-1076.819906 -   3.3s\n",
      "[CV] subsample=0.5, colsample_bytree=0.1 .............................\n",
      "[CV]  subsample=0.5, colsample_bytree=0.1, score=-1091.504881 -   3.3s\n",
      "[CV] subsample=0.7, colsample_bytree=0.1 .............................\n",
      "[CV]  subsample=0.7, colsample_bytree=0.1, score=-1092.177787 -   3.1s\n",
      "[CV] subsample=0.7, colsample_bytree=0.1 .............................\n",
      "[CV]  subsample=0.7, colsample_bytree=0.1, score=-1106.943208 -   3.1s\n",
      "[CV] subsample=0.7, colsample_bytree=0.1 .............................\n",
      "[CV]  subsample=0.7, colsample_bytree=0.1, score=-1111.492143 -   3.1s\n",
      "[CV] subsample=0.7, colsample_bytree=0.1 .............................\n",
      "[CV]  subsample=0.7, colsample_bytree=0.1, score=-1076.989199 -   3.0s\n",
      "[CV] subsample=0.7, colsample_bytree=0.1 .............................\n",
      "[CV]  subsample=0.7, colsample_bytree=0.1, score=-1081.678039 -   3.1s\n",
      "[CV] subsample=1.0, colsample_bytree=0.1 .............................\n",
      "[CV]  subsample=1.0, colsample_bytree=0.1, score=-1081.989819 -   2.6s\n",
      "[CV] subsample=1.0, colsample_bytree=0.1 .............................\n",
      "[CV]  subsample=1.0, colsample_bytree=0.1, score=-1105.413983 -   2.6s\n",
      "[CV] subsample=1.0, colsample_bytree=0.1 .............................\n",
      "[CV]  subsample=1.0, colsample_bytree=0.1, score=-1110.216006 -   2.6s\n",
      "[CV] subsample=1.0, colsample_bytree=0.1 .............................\n",
      "[CV]  subsample=1.0, colsample_bytree=0.1, score=-1070.322118 -   2.6s\n",
      "[CV] subsample=1.0, colsample_bytree=0.1 .............................\n",
      "[CV]  subsample=1.0, colsample_bytree=0.1, score=-1082.584312 -   2.6s\n",
      "[CV] subsample=0.1, colsample_bytree=0.3 .............................\n",
      "[CV]  subsample=0.1, colsample_bytree=0.3, score=-1154.184296 -   3.6s\n",
      "[CV] subsample=0.1, colsample_bytree=0.3 .............................\n",
      "[CV]  subsample=0.1, colsample_bytree=0.3, score=-1167.022053 -   3.6s\n",
      "[CV] subsample=0.1, colsample_bytree=0.3 .............................\n",
      "[CV]  subsample=0.1, colsample_bytree=0.3, score=-1162.165413 -   3.6s\n",
      "[CV] subsample=0.1, colsample_bytree=0.3 .............................\n",
      "[CV]  subsample=0.1, colsample_bytree=0.3, score=-1134.069242 -   3.6s\n",
      "[CV] subsample=0.1, colsample_bytree=0.3 .............................\n",
      "[CV]  subsample=0.1, colsample_bytree=0.3, score=-1146.853511 -   3.7s\n",
      "[CV] subsample=0.3, colsample_bytree=0.3 .............................\n",
      "[CV]  subsample=0.3, colsample_bytree=0.3, score=-1104.103343 -   5.3s\n",
      "[CV] subsample=0.3, colsample_bytree=0.3 .............................\n",
      "[CV]  subsample=0.3, colsample_bytree=0.3, score=-1112.854772 -   5.3s\n",
      "[CV] subsample=0.3, colsample_bytree=0.3 .............................\n",
      "[CV]  subsample=0.3, colsample_bytree=0.3, score=-1125.473605 -   5.3s\n",
      "[CV] subsample=0.3, colsample_bytree=0.3 .............................\n",
      "[CV]  subsample=0.3, colsample_bytree=0.3, score=-1089.697560 -   5.3s\n",
      "[CV] subsample=0.3, colsample_bytree=0.3 .............................\n",
      "[CV]  subsample=0.3, colsample_bytree=0.3, score=-1105.656935 -   5.3s\n",
      "[CV] subsample=0.5, colsample_bytree=0.3 .............................\n",
      "[CV]  subsample=0.5, colsample_bytree=0.3, score=-1084.458348 -   6.4s\n",
      "[CV] subsample=0.5, colsample_bytree=0.3 .............................\n",
      "[CV]  subsample=0.5, colsample_bytree=0.3, score=-1109.868783 -   6.4s\n",
      "[CV] subsample=0.5, colsample_bytree=0.3 .............................\n",
      "[CV]  subsample=0.5, colsample_bytree=0.3, score=-1119.769814 -   6.5s\n",
      "[CV] subsample=0.5, colsample_bytree=0.3 .............................\n",
      "[CV]  subsample=0.5, colsample_bytree=0.3, score=-1079.509932 -   6.4s\n",
      "[CV] subsample=0.5, colsample_bytree=0.3 .............................\n",
      "[CV]  subsample=0.5, colsample_bytree=0.3, score=-1087.135398 -   6.5s\n",
      "[CV] subsample=0.7, colsample_bytree=0.3 .............................\n",
      "[CV]  subsample=0.7, colsample_bytree=0.3, score=-1077.865209 -   5.9s\n",
      "[CV] subsample=0.7, colsample_bytree=0.3 .............................\n",
      "[CV]  subsample=0.7, colsample_bytree=0.3, score=-1102.391599 -   5.9s\n",
      "[CV] subsample=0.7, colsample_bytree=0.3 .............................\n",
      "[CV]  subsample=0.7, colsample_bytree=0.3, score=-1116.912509 -   5.9s\n",
      "[CV] subsample=0.7, colsample_bytree=0.3 .............................\n",
      "[CV]  subsample=0.7, colsample_bytree=0.3, score=-1073.326185 -   5.9s\n",
      "[CV] subsample=0.7, colsample_bytree=0.3 .............................\n",
      "[CV]  subsample=0.7, colsample_bytree=0.3, score=-1087.339560 -   5.8s\n",
      "[CV] subsample=1.0, colsample_bytree=0.3 .............................\n",
      "[CV]  subsample=1.0, colsample_bytree=0.3, score=-1072.394285 -   4.8s\n",
      "[CV] subsample=1.0, colsample_bytree=0.3 .............................\n",
      "[CV]  subsample=1.0, colsample_bytree=0.3, score=-1106.714657 -   4.8s\n",
      "[CV] subsample=1.0, colsample_bytree=0.3 .............................\n",
      "[CV]  subsample=1.0, colsample_bytree=0.3, score=-1114.522451 -   4.7s\n",
      "[CV] subsample=1.0, colsample_bytree=0.3 .............................\n",
      "[CV]  subsample=1.0, colsample_bytree=0.3, score=-1073.161932 -   4.7s\n",
      "[CV] subsample=1.0, colsample_bytree=0.3 .............................\n",
      "[CV]  subsample=1.0, colsample_bytree=0.3, score=-1086.722257 -   4.8s\n",
      "[CV] subsample=0.1, colsample_bytree=0.5 .............................\n",
      "[CV]  subsample=0.1, colsample_bytree=0.5, score=-1165.702559 -   5.1s\n",
      "[CV] subsample=0.1, colsample_bytree=0.5 .............................\n",
      "[CV]  subsample=0.1, colsample_bytree=0.5, score=-1163.175740 -   5.1s\n",
      "[CV] subsample=0.1, colsample_bytree=0.5 .............................\n",
      "[CV]  subsample=0.1, colsample_bytree=0.5, score=-1177.233858 -   5.0s\n",
      "[CV] subsample=0.1, colsample_bytree=0.5 .............................\n",
      "[CV]  subsample=0.1, colsample_bytree=0.5, score=-1147.587903 -   5.1s\n",
      "[CV] subsample=0.1, colsample_bytree=0.5 .............................\n",
      "[CV]  subsample=0.1, colsample_bytree=0.5, score=-1145.914580 -   5.1s\n",
      "[CV] subsample=0.3, colsample_bytree=0.5 .............................\n",
      "[CV]  subsample=0.3, colsample_bytree=0.5, score=-1104.363980 -   7.8s\n",
      "[CV] subsample=0.3, colsample_bytree=0.5 .............................\n",
      "[CV]  subsample=0.3, colsample_bytree=0.5, score=-1120.615408 -   7.8s\n",
      "[CV] subsample=0.3, colsample_bytree=0.5 .............................\n",
      "[CV]  subsample=0.3, colsample_bytree=0.5, score=-1126.966338 -   7.8s\n",
      "[CV] subsample=0.3, colsample_bytree=0.5 .............................\n",
      "[CV]  subsample=0.3, colsample_bytree=0.5, score=-1102.089602 -   7.8s\n",
      "[CV] subsample=0.3, colsample_bytree=0.5 .............................\n",
      "[CV]  subsample=0.3, colsample_bytree=0.5, score=-1103.502926 -   7.8s\n",
      "[CV] subsample=0.5, colsample_bytree=0.5 .............................\n",
      "[CV]  subsample=0.5, colsample_bytree=0.5, score=-1083.909672 -   9.6s\n",
      "[CV] subsample=0.5, colsample_bytree=0.5 .............................\n",
      "[CV]  subsample=0.5, colsample_bytree=0.5, score=-1110.268442 -   9.6s\n",
      "[CV] subsample=0.5, colsample_bytree=0.5 .............................\n",
      "[CV]  subsample=0.5, colsample_bytree=0.5, score=-1118.951973 -   9.6s\n",
      "[CV] subsample=0.5, colsample_bytree=0.5 .............................\n",
      "[CV]  subsample=0.5, colsample_bytree=0.5, score=-1082.608200 -   9.6s\n",
      "[CV] subsample=0.5, colsample_bytree=0.5 .............................\n",
      "[CV]  subsample=0.5, colsample_bytree=0.5, score=-1098.878067 -   9.6s\n",
      "[CV] subsample=0.7, colsample_bytree=0.5 .............................\n",
      "[CV]  subsample=0.7, colsample_bytree=0.5, score=-1090.355405 -   8.7s\n",
      "[CV] subsample=0.7, colsample_bytree=0.5 .............................\n",
      "[CV]  subsample=0.7, colsample_bytree=0.5, score=-1104.480383 -   8.7s\n",
      "[CV] subsample=0.7, colsample_bytree=0.5 .............................\n",
      "[CV]  subsample=0.7, colsample_bytree=0.5, score=-1112.477712 -   8.7s\n",
      "[CV] subsample=0.7, colsample_bytree=0.5 .............................\n",
      "[CV]  subsample=0.7, colsample_bytree=0.5, score=-1080.732670 -   8.7s\n",
      "[CV] subsample=0.7, colsample_bytree=0.5 .............................\n",
      "[CV]  subsample=0.7, colsample_bytree=0.5, score=-1097.224870 -   8.7s\n",
      "[CV] subsample=1.0, colsample_bytree=0.5 .............................\n",
      "[CV]  subsample=1.0, colsample_bytree=0.5, score=-1076.142199 -   7.0s\n",
      "[CV] subsample=1.0, colsample_bytree=0.5 .............................\n",
      "[CV]  subsample=1.0, colsample_bytree=0.5, score=-1107.561335 -   7.0s\n",
      "[CV] subsample=1.0, colsample_bytree=0.5 .............................\n",
      "[CV]  subsample=1.0, colsample_bytree=0.5, score=-1118.225008 -   7.0s\n",
      "[CV] subsample=1.0, colsample_bytree=0.5 .............................\n",
      "[CV]  subsample=1.0, colsample_bytree=0.5, score=-1078.905961 -   7.0s\n",
      "[CV] subsample=1.0, colsample_bytree=0.5 .............................\n",
      "[CV]  subsample=1.0, colsample_bytree=0.5, score=-1091.501163 -   7.0s\n",
      "[CV] subsample=0.1, colsample_bytree=0.7 .............................\n",
      "[CV]  subsample=0.1, colsample_bytree=0.7, score=-1163.657844 -   6.5s\n",
      "[CV] subsample=0.1, colsample_bytree=0.7 .............................\n",
      "[CV]  subsample=0.1, colsample_bytree=0.7, score=-1166.444577 -   6.5s\n",
      "[CV] subsample=0.1, colsample_bytree=0.7 .............................\n",
      "[CV]  subsample=0.1, colsample_bytree=0.7, score=-1194.820629 -   6.6s\n",
      "[CV] subsample=0.1, colsample_bytree=0.7 .............................\n",
      "[CV]  subsample=0.1, colsample_bytree=0.7, score=-1143.993838 -   6.5s\n",
      "[CV] subsample=0.1, colsample_bytree=0.7 .............................\n",
      "[CV]  subsample=0.1, colsample_bytree=0.7, score=-1167.662754 -   6.5s\n",
      "[CV] subsample=0.3, colsample_bytree=0.7 .............................\n",
      "[CV]  subsample=0.3, colsample_bytree=0.7, score=-1106.496586 -  10.3s\n",
      "[CV] subsample=0.3, colsample_bytree=0.7 .............................\n",
      "[CV]  subsample=0.3, colsample_bytree=0.7, score=-1126.457623 -  10.3s\n",
      "[CV] subsample=0.3, colsample_bytree=0.7 .............................\n",
      "[CV]  subsample=0.3, colsample_bytree=0.7, score=-1128.692331 -  10.3s\n",
      "[CV] subsample=0.3, colsample_bytree=0.7 .............................\n",
      "[CV]  subsample=0.3, colsample_bytree=0.7, score=-1101.329597 -  10.2s\n",
      "[CV] subsample=0.3, colsample_bytree=0.7 .............................\n",
      "[CV]  subsample=0.3, colsample_bytree=0.7, score=-1110.792256 -  10.3s\n",
      "[CV] subsample=0.5, colsample_bytree=0.7 .............................\n",
      "[CV]  subsample=0.5, colsample_bytree=0.7, score=-1084.156037 -  12.9s\n",
      "[CV] subsample=0.5, colsample_bytree=0.7 .............................\n",
      "[CV]  subsample=0.5, colsample_bytree=0.7, score=-1118.674374 -  12.8s\n",
      "[CV] subsample=0.5, colsample_bytree=0.7 .............................\n",
      "[CV]  subsample=0.5, colsample_bytree=0.7, score=-1115.483417 -  12.9s\n",
      "[CV] subsample=0.5, colsample_bytree=0.7 .............................\n",
      "[CV]  subsample=0.5, colsample_bytree=0.7, score=-1086.248083 -  12.8s\n",
      "[CV] subsample=0.5, colsample_bytree=0.7 .............................\n",
      "[CV]  subsample=0.5, colsample_bytree=0.7, score=-1102.250044 -  12.8s\n",
      "[CV] subsample=0.7, colsample_bytree=0.7 .............................\n",
      "[CV]  subsample=0.7, colsample_bytree=0.7, score=-1079.831962 -  11.5s\n",
      "[CV] subsample=0.7, colsample_bytree=0.7 .............................\n",
      "[CV]  subsample=0.7, colsample_bytree=0.7, score=-1108.551096 -  11.5s\n",
      "[CV] subsample=0.7, colsample_bytree=0.7 .............................\n",
      "[CV]  subsample=0.7, colsample_bytree=0.7, score=-1117.837376 -  11.5s\n",
      "[CV] subsample=0.7, colsample_bytree=0.7 .............................\n",
      "[CV]  subsample=0.7, colsample_bytree=0.7, score=-1074.351922 -  11.5s\n",
      "[CV] subsample=0.7, colsample_bytree=0.7 .............................\n",
      "[CV]  subsample=0.7, colsample_bytree=0.7, score=-1093.677294 -  11.5s\n",
      "[CV] subsample=1.0, colsample_bytree=0.7 .............................\n",
      "[CV]  subsample=1.0, colsample_bytree=0.7, score=-1076.736467 -   9.3s\n",
      "[CV] subsample=1.0, colsample_bytree=0.7 .............................\n",
      "[CV]  subsample=1.0, colsample_bytree=0.7, score=-1108.468685 -   9.2s\n",
      "[CV] subsample=1.0, colsample_bytree=0.7 .............................\n",
      "[CV]  subsample=1.0, colsample_bytree=0.7, score=-1120.802526 -   9.3s\n",
      "[CV] subsample=1.0, colsample_bytree=0.7 .............................\n",
      "[CV]  subsample=1.0, colsample_bytree=0.7, score=-1075.405945 -   9.3s\n",
      "[CV] subsample=1.0, colsample_bytree=0.7 .............................\n",
      "[CV]  subsample=1.0, colsample_bytree=0.7, score=-1096.909218 -   9.2s\n",
      "[CV] subsample=0.1, colsample_bytree=1.0 .............................\n",
      "[CV]  subsample=0.1, colsample_bytree=1.0, score=-1164.715303 -   8.7s\n",
      "[CV] subsample=0.1, colsample_bytree=1.0 .............................\n",
      "[CV]  subsample=0.1, colsample_bytree=1.0, score=-1180.798235 -   8.7s\n",
      "[CV] subsample=0.1, colsample_bytree=1.0 .............................\n",
      "[CV]  subsample=0.1, colsample_bytree=1.0, score=-1183.555016 -   8.7s\n",
      "[CV] subsample=0.1, colsample_bytree=1.0 .............................\n",
      "[CV]  subsample=0.1, colsample_bytree=1.0, score=-1140.118811 -   8.7s\n",
      "[CV] subsample=0.1, colsample_bytree=1.0 .............................\n",
      "[CV]  subsample=0.1, colsample_bytree=1.0, score=-1163.161307 -   8.7s\n",
      "[CV] subsample=0.3, colsample_bytree=1.0 .............................\n",
      "[CV]  subsample=0.3, colsample_bytree=1.0, score=-1106.612954 -  14.0s\n",
      "[CV] subsample=0.3, colsample_bytree=1.0 .............................\n",
      "[CV]  subsample=0.3, colsample_bytree=1.0, score=-1114.359724 -  14.1s\n",
      "[CV] subsample=0.3, colsample_bytree=1.0 .............................\n",
      "[CV]  subsample=0.3, colsample_bytree=1.0, score=-1121.270098 -  14.1s\n",
      "[CV] subsample=0.3, colsample_bytree=1.0 .............................\n",
      "[CV]  subsample=0.3, colsample_bytree=1.0, score=-1097.865957 -  14.0s\n",
      "[CV] subsample=0.3, colsample_bytree=1.0 .............................\n",
      "[CV]  subsample=0.3, colsample_bytree=1.0, score=-1111.604962 -  14.1s\n",
      "[CV] subsample=0.5, colsample_bytree=1.0 .............................\n",
      "[CV]  subsample=0.5, colsample_bytree=1.0, score=-1091.207484 -  17.5s\n",
      "[CV] subsample=0.5, colsample_bytree=1.0 .............................\n",
      "[CV]  subsample=0.5, colsample_bytree=1.0, score=-1114.248249 -  17.5s\n",
      "[CV] subsample=0.5, colsample_bytree=1.0 .............................\n",
      "[CV]  subsample=0.5, colsample_bytree=1.0, score=-1116.197870 -  17.6s\n",
      "[CV] subsample=0.5, colsample_bytree=1.0 .............................\n",
      "[CV]  subsample=0.5, colsample_bytree=1.0, score=-1079.548738 -  17.6s\n",
      "[CV] subsample=0.5, colsample_bytree=1.0 .............................\n",
      "[CV]  subsample=0.5, colsample_bytree=1.0, score=-1097.532043 -  17.6s\n",
      "[CV] subsample=0.7, colsample_bytree=1.0 .............................\n",
      "[CV]  subsample=0.7, colsample_bytree=1.0, score=-1081.185689 -  15.8s\n",
      "[CV] subsample=0.7, colsample_bytree=1.0 .............................\n",
      "[CV]  subsample=0.7, colsample_bytree=1.0, score=-1111.840190 -  15.8s\n",
      "[CV] subsample=0.7, colsample_bytree=1.0 .............................\n",
      "[CV]  subsample=0.7, colsample_bytree=1.0, score=-1115.958933 -  15.8s\n",
      "[CV] subsample=0.7, colsample_bytree=1.0 .............................\n",
      "[CV]  subsample=0.7, colsample_bytree=1.0, score=-1082.691935 -  15.8s\n",
      "[CV] subsample=0.7, colsample_bytree=1.0 .............................\n",
      "[CV]  subsample=0.7, colsample_bytree=1.0, score=-1092.904869 -  15.9s\n",
      "[CV] subsample=1.0, colsample_bytree=1.0 .............................\n",
      "[CV]  subsample=1.0, colsample_bytree=1.0, score=-1088.006630 -  12.7s\n",
      "[CV] subsample=1.0, colsample_bytree=1.0 .............................\n",
      "[CV]  subsample=1.0, colsample_bytree=1.0, score=-1116.789409 -  12.8s\n",
      "[CV] subsample=1.0, colsample_bytree=1.0 .............................\n",
      "[CV]  subsample=1.0, colsample_bytree=1.0, score=-1117.634873 -  12.7s\n",
      "[CV] subsample=1.0, colsample_bytree=1.0 .............................\n",
      "[CV]  subsample=1.0, colsample_bytree=1.0, score=-1084.400256 -  12.6s\n",
      "[CV] subsample=1.0, colsample_bytree=1.0 .............................\n",
      "[CV]  subsample=1.0, colsample_bytree=1.0, score=-1095.817576 -  12.8s\n"
     ]
    },
    {
     "name": "stderr",
     "output_type": "stream",
     "text": [
      "[Parallel(n_jobs=1)]: Done 125 out of 125 | elapsed: 16.5min finished\n"
     ]
    },
    {
     "data": {
      "text/plain": [
       "GridSearchCV(cv=5, error_score='raise',\n",
       "       estimator=XGBRegressor(base_score=0.5, colsample_bylevel=1, colsample_bytree=0.3,\n",
       "       gamma=0, learning_rate=0.08, max_delta_step=0, max_depth=5,\n",
       "       min_child_weight=1, missing=None, n_estimators=500, nthread=8,\n",
       "       objective='reg:linear', reg_alpha=0, reg_lambda=1,\n",
       "       scale_pos_weight=1, seed=42, silent=True, subsample=1),\n",
       "       fit_params={}, iid=True, n_jobs=1,\n",
       "       param_grid={'subsample': [0.1, 0.3, 0.5, 0.7, 1.0], 'colsample_bytree': [0.1, 0.3, 0.5, 0.7, 1.0]},\n",
       "       pre_dispatch='2*n_jobs', refit=True,\n",
       "       scoring='neg_mean_absolute_error', verbose=3)"
      ]
     },
     "execution_count": 9,
     "metadata": {},
     "output_type": "execute_result"
    }
   ],
   "source": [
    "gsearch2 = GridSearchCV(cv=5, \n",
    "             error_score='raise', \n",
    "             estimator= XGBRegressor(max_depth=gsearch4.best_params_['max_depth'], \n",
    "                                     learning_rate=0.08, \n",
    "                                     n_estimators=gsearch0.best_params_['n_estimators'], \n",
    "                                     silent=True, \n",
    "                                     objective='reg:linear', \n",
    "                                     nthread=8, \n",
    "                                     gamma=gsearch1.best_params_['gamma'], \n",
    "                                     min_child_weight=gsearch4.best_params_['min_child_weight'], \n",
    "                                     max_delta_step=0, \n",
    "                                     subsample=1, \n",
    "                                     colsample_bytree=0.3, \n",
    "                                     colsample_bylevel=1, \n",
    "                                     reg_alpha=0, \n",
    "                                     reg_lambda=1, \n",
    "                                     scale_pos_weight=1, \n",
    "                                     base_score=0.5, \n",
    "                                     seed=42, \n",
    "                                     missing=None),\n",
    "             fit_params={}, \n",
    "             iid=True, \n",
    "             n_jobs=1,\n",
    "             param_grid={'colsample_bytree': [0.1,0.3,0.5,0.7,1.], 'subsample': [0.1,0.3,0.5,0.7, 1.]},\n",
    "             #pre_dispatch='2*n_jobs', \n",
    "             #pre_dispatch=2, \n",
    "             refit=True, \n",
    "             scoring='neg_mean_absolute_error', \n",
    "             verbose=3)\n",
    "\n",
    "gsearch2.fit(final_train,y_train)"
   ]
  },
  {
   "cell_type": "code",
   "execution_count": 10,
   "metadata": {
    "collapsed": false
   },
   "outputs": [
    {
     "data": {
      "text/plain": [
       "([mean: -1148.13320, std: 13.42451, params: {'subsample': 0.1, 'colsample_bytree': 0.1},\n",
       "  mean: -1111.55190, std: 9.80231, params: {'subsample': 0.3, 'colsample_bytree': 0.1},\n",
       "  mean: -1099.64609, std: 14.75859, params: {'subsample': 0.5, 'colsample_bytree': 0.1},\n",
       "  mean: -1093.85598, std: 13.54929, params: {'subsample': 0.7, 'colsample_bytree': 0.1},\n",
       "  mean: -1090.10481, std: 15.18286, params: {'subsample': 1.0, 'colsample_bytree': 0.1},\n",
       "  mean: -1152.85897, std: 11.64542, params: {'subsample': 0.1, 'colsample_bytree': 0.3},\n",
       "  mean: -1107.55706, std: 11.69247, params: {'subsample': 0.3, 'colsample_bytree': 0.3},\n",
       "  mean: -1096.14782, std: 15.75405, params: {'subsample': 0.5, 'colsample_bytree': 0.3},\n",
       "  mean: -1091.56627, std: 16.11151, params: {'subsample': 0.7, 'colsample_bytree': 0.3},\n",
       "  mean: -1090.70212, std: 17.21908, params: {'subsample': 1.0, 'colsample_bytree': 0.3},\n",
       "  mean: -1159.92324, std: 11.76469, params: {'subsample': 0.1, 'colsample_bytree': 0.5},\n",
       "  mean: -1111.50726, std: 10.25407, params: {'subsample': 0.3, 'colsample_bytree': 0.5},\n",
       "  mean: -1098.92246, std: 14.29303, params: {'subsample': 0.5, 'colsample_bytree': 0.5},\n",
       "  mean: -1097.05385, std: 10.99389, params: {'subsample': 0.7, 'colsample_bytree': 0.5},\n",
       "  mean: -1094.46614, std: 16.26435, params: {'subsample': 1.0, 'colsample_bytree': 0.5},\n",
       "  mean: -1167.31573, std: 16.21536, params: {'subsample': 0.1, 'colsample_bytree': 0.7},\n",
       "  mean: -1114.75323, std: 10.91189, params: {'subsample': 0.3, 'colsample_bytree': 0.7},\n",
       "  mean: -1101.36146, std: 14.31361, params: {'subsample': 0.5, 'colsample_bytree': 0.7},\n",
       "  mean: -1094.84912, std: 16.51198, params: {'subsample': 0.7, 'colsample_bytree': 0.7},\n",
       "  mean: -1095.66354, std: 17.69800, params: {'subsample': 1.0, 'colsample_bytree': 0.7},\n",
       "  mean: -1166.46964, std: 15.52809, params: {'subsample': 0.1, 'colsample_bytree': 1.0},\n",
       "  mean: -1110.34254, std: 7.83221, params: {'subsample': 0.3, 'colsample_bytree': 1.0},\n",
       "  mean: -1099.74641, std: 13.90479, params: {'subsample': 0.5, 'colsample_bytree': 1.0},\n",
       "  mean: -1096.91547, std: 14.49980, params: {'subsample': 0.7, 'colsample_bytree': 1.0},\n",
       "  mean: -1100.52907, std: 14.11492, params: {'subsample': 1.0, 'colsample_bytree': 1.0}],\n",
       " {'colsample_bytree': 0.1, 'subsample': 1.0},\n",
       " -1090.104808090873)"
      ]
     },
     "execution_count": 10,
     "metadata": {},
     "output_type": "execute_result"
    }
   ],
   "source": [
    "gsearch2.grid_scores_, gsearch2.best_params_, gsearch2.best_score_"
   ]
  },
  {
   "cell_type": "code",
   "execution_count": 11,
   "metadata": {
    "collapsed": false,
    "scrolled": true
   },
   "outputs": [
    {
     "name": "stdout",
     "output_type": "stream",
     "text": [
      "Fitting 5 folds for each of 9 candidates, totalling 45 fits\n",
      "[CV] reg_alpha=1e-05 .................................................\n",
      "[CV] .................... reg_alpha=1e-05, score=-1081.989822 -   2.7s\n",
      "[CV] reg_alpha=1e-05 .................................................\n"
     ]
    },
    {
     "name": "stderr",
     "output_type": "stream",
     "text": [
      "[Parallel(n_jobs=1)]: Done   1 out of   1 | elapsed:    2.8s remaining:    0.0s\n"
     ]
    },
    {
     "name": "stdout",
     "output_type": "stream",
     "text": [
      "[CV] .................... reg_alpha=1e-05, score=-1105.413983 -   2.7s\n",
      "[CV] reg_alpha=1e-05 .................................................\n"
     ]
    },
    {
     "name": "stderr",
     "output_type": "stream",
     "text": [
      "[Parallel(n_jobs=1)]: Done   2 out of   2 | elapsed:    5.4s remaining:    0.0s\n"
     ]
    },
    {
     "name": "stdout",
     "output_type": "stream",
     "text": [
      "[CV] .................... reg_alpha=1e-05, score=-1110.216004 -   2.7s\n",
      "[CV] reg_alpha=1e-05 .................................................\n",
      "[CV] .................... reg_alpha=1e-05, score=-1070.322119 -   2.6s\n",
      "[CV] reg_alpha=1e-05 .................................................\n",
      "[CV] .................... reg_alpha=1e-05, score=-1082.584312 -   2.6s\n",
      "[CV] reg_alpha=0.0001 ................................................\n",
      "[CV] ................... reg_alpha=0.0001, score=-1081.989820 -   2.6s\n",
      "[CV] reg_alpha=0.0001 ................................................\n",
      "[CV] ................... reg_alpha=0.0001, score=-1105.413985 -   2.6s\n",
      "[CV] reg_alpha=0.0001 ................................................\n",
      "[CV] ................... reg_alpha=0.0001, score=-1110.216010 -   2.6s\n",
      "[CV] reg_alpha=0.0001 ................................................\n",
      "[CV] ................... reg_alpha=0.0001, score=-1070.322120 -   2.6s\n",
      "[CV] reg_alpha=0.0001 ................................................\n",
      "[CV] ................... reg_alpha=0.0001, score=-1082.584317 -   2.7s\n",
      "[CV] reg_alpha=0.001 .................................................\n",
      "[CV] .................... reg_alpha=0.001, score=-1081.989824 -   2.7s\n",
      "[CV] reg_alpha=0.001 .................................................\n",
      "[CV] .................... reg_alpha=0.001, score=-1105.413980 -   2.6s\n",
      "[CV] reg_alpha=0.001 .................................................\n",
      "[CV] .................... reg_alpha=0.001, score=-1110.216005 -   2.6s\n",
      "[CV] reg_alpha=0.001 .................................................\n",
      "[CV] .................... reg_alpha=0.001, score=-1070.322119 -   2.6s\n",
      "[CV] reg_alpha=0.001 .................................................\n",
      "[CV] .................... reg_alpha=0.001, score=-1082.584306 -   2.6s\n",
      "[CV] reg_alpha=0.01 ..................................................\n",
      "[CV] ..................... reg_alpha=0.01, score=-1081.989786 -   2.6s\n",
      "[CV] reg_alpha=0.01 ..................................................\n",
      "[CV] ..................... reg_alpha=0.01, score=-1105.413973 -   2.6s\n",
      "[CV] reg_alpha=0.01 ..................................................\n",
      "[CV] ..................... reg_alpha=0.01, score=-1110.215985 -   2.6s\n",
      "[CV] reg_alpha=0.01 ..................................................\n",
      "[CV] ..................... reg_alpha=0.01, score=-1070.322115 -   2.6s\n",
      "[CV] reg_alpha=0.01 ..................................................\n",
      "[CV] ..................... reg_alpha=0.01, score=-1082.584306 -   2.6s\n",
      "[CV] reg_alpha=0.1 ...................................................\n",
      "[CV] ...................... reg_alpha=0.1, score=-1081.989628 -   2.6s\n",
      "[CV] reg_alpha=0.1 ...................................................\n",
      "[CV] ...................... reg_alpha=0.1, score=-1107.750735 -   2.7s\n",
      "[CV] reg_alpha=0.1 ...................................................\n",
      "[CV] ...................... reg_alpha=0.1, score=-1111.436902 -   2.7s\n",
      "[CV] reg_alpha=0.1 ...................................................\n",
      "[CV] ...................... reg_alpha=0.1, score=-1068.184310 -   2.6s\n",
      "[CV] reg_alpha=0.1 ...................................................\n",
      "[CV] ...................... reg_alpha=0.1, score=-1082.584180 -   2.6s\n",
      "[CV] reg_alpha=1 .....................................................\n",
      "[CV] ........................ reg_alpha=1, score=-1081.499411 -   2.6s\n",
      "[CV] reg_alpha=1 .....................................................\n",
      "[CV] ........................ reg_alpha=1, score=-1107.644645 -   2.7s\n",
      "[CV] reg_alpha=1 .....................................................\n",
      "[CV] ........................ reg_alpha=1, score=-1111.838251 -   2.6s\n",
      "[CV] reg_alpha=1 .....................................................\n",
      "[CV] ........................ reg_alpha=1, score=-1069.301171 -   2.6s\n",
      "[CV] reg_alpha=1 .....................................................\n",
      "[CV] ........................ reg_alpha=1, score=-1081.689929 -   2.6s\n",
      "[CV] reg_alpha=10 ....................................................\n",
      "[CV] ....................... reg_alpha=10, score=-1084.514750 -   2.6s\n",
      "[CV] reg_alpha=10 ....................................................\n",
      "[CV] ....................... reg_alpha=10, score=-1107.170115 -   2.7s\n",
      "[CV] reg_alpha=10 ....................................................\n",
      "[CV] ....................... reg_alpha=10, score=-1112.715598 -   2.7s\n",
      "[CV] reg_alpha=10 ....................................................\n",
      "[CV] ....................... reg_alpha=10, score=-1071.696212 -   2.7s\n",
      "[CV] reg_alpha=10 ....................................................\n",
      "[CV] ....................... reg_alpha=10, score=-1078.373100 -   2.6s\n",
      "[CV] reg_alpha=100 ...................................................\n",
      "[CV] ...................... reg_alpha=100, score=-1080.836636 -   2.6s\n",
      "[CV] reg_alpha=100 ...................................................\n",
      "[CV] ...................... reg_alpha=100, score=-1107.582016 -   2.6s\n",
      "[CV] reg_alpha=100 ...................................................\n",
      "[CV] ...................... reg_alpha=100, score=-1112.674514 -   2.6s\n",
      "[CV] reg_alpha=100 ...................................................\n",
      "[CV] ...................... reg_alpha=100, score=-1070.580239 -   2.6s\n",
      "[CV] reg_alpha=100 ...................................................\n",
      "[CV] ...................... reg_alpha=100, score=-1078.059822 -   2.6s\n",
      "[CV] reg_alpha=1000 ..................................................\n",
      "[CV] ..................... reg_alpha=1000, score=-1077.669856 -   2.7s\n",
      "[CV] reg_alpha=1000 ..................................................\n",
      "[CV] ..................... reg_alpha=1000, score=-1104.892789 -   2.6s\n",
      "[CV] reg_alpha=1000 ..................................................\n",
      "[CV] ..................... reg_alpha=1000, score=-1107.866060 -   2.6s\n",
      "[CV] reg_alpha=1000 ..................................................\n",
      "[CV] ..................... reg_alpha=1000, score=-1067.075590 -   2.7s\n",
      "[CV] reg_alpha=1000 ..................................................\n",
      "[CV] ..................... reg_alpha=1000, score=-1079.419859 -   2.7s\n"
     ]
    },
    {
     "name": "stderr",
     "output_type": "stream",
     "text": [
      "[Parallel(n_jobs=1)]: Done  45 out of  45 | elapsed:  2.0min finished\n"
     ]
    },
    {
     "data": {
      "text/plain": [
       "GridSearchCV(cv=5, error_score='raise',\n",
       "       estimator=XGBRegressor(base_score=0.5, colsample_bylevel=1, colsample_bytree=0.1,\n",
       "       gamma=0, learning_rate=0.08, max_delta_step=0, max_depth=5,\n",
       "       min_child_weight=1, missing=None, n_estimators=500, nthread=8,\n",
       "       objective='reg:linear', reg_alpha=0, reg_lambda=1,\n",
       "       scale_pos_weight=1, seed=42, silent=True, subsample=1.0),\n",
       "       fit_params={}, iid=True, n_jobs=1,\n",
       "       param_grid={'reg_alpha': [1e-05, 0.0001, 0.001, 0.01, 0.1, 1, 10, 100, 1000]},\n",
       "       pre_dispatch='2*n_jobs', refit=True,\n",
       "       scoring='neg_mean_absolute_error', verbose=3)"
      ]
     },
     "execution_count": 11,
     "metadata": {},
     "output_type": "execute_result"
    }
   ],
   "source": [
    "gsearch3 = GridSearchCV(cv=5, \n",
    "             error_score='raise', \n",
    "             estimator= XGBRegressor(max_depth=gsearch4.best_params_['max_depth'], \n",
    "                                     learning_rate=0.08, \n",
    "                                     n_estimators=gsearch0.best_params_['n_estimators'], \n",
    "                                     silent=True, \n",
    "                                     objective='reg:linear', \n",
    "                                     nthread=8, \n",
    "                                     gamma=gsearch1.best_params_['gamma'], \n",
    "                                     min_child_weight=gsearch4.best_params_['min_child_weight'], \n",
    "                                     max_delta_step=0, \n",
    "                                     subsample=gsearch2.best_params_['subsample'], \n",
    "                                     colsample_bytree=gsearch2.best_params_['colsample_bytree'], \n",
    "                                     colsample_bylevel=1, \n",
    "                                     reg_alpha=0, \n",
    "                                     reg_lambda=1, \n",
    "                                     scale_pos_weight=1, \n",
    "                                     base_score=0.5, \n",
    "                                     seed=42, \n",
    "                                     missing=None),\n",
    "             fit_params={}, \n",
    "             iid=True, \n",
    "             n_jobs=1,\n",
    "             param_grid={'reg_alpha':[1e-5,1e-4,1e-3, 1e-2, 0.1, 1,10, 100,1000]},\n",
    "             #pre_dispatch='2*n_jobs', \n",
    "             #pre_dispatch=2, \n",
    "             refit=True, \n",
    "             scoring='neg_mean_absolute_error', \n",
    "             verbose=3)\n",
    "\n",
    "gsearch3.fit(final_train,y_train)"
   ]
  },
  {
   "cell_type": "code",
   "execution_count": 12,
   "metadata": {
    "collapsed": false
   },
   "outputs": [
    {
     "data": {
      "text/plain": [
       "([mean: -1128.40110, std: 17.50759, params: {'n_estimators': 100},\n",
       "  mean: -1088.20782, std: 15.68490, params: {'n_estimators': 500},\n",
       "  mean: -1088.69271, std: 14.32602, params: {'n_estimators': 750},\n",
       "  mean: -1090.48969, std: 14.11688, params: {'n_estimators': 1000},\n",
       "  mean: -1103.60339, std: 13.23925, params: {'n_estimators': 2000}],\n",
       " {'n_estimators': 500},\n",
       " -1088.207817512379)"
      ]
     },
     "execution_count": 12,
     "metadata": {},
     "output_type": "execute_result"
    }
   ],
   "source": [
    "gsearch0.grid_scores_, gsearch0.best_params_, gsearch0.best_score_\n"
   ]
  },
  {
   "cell_type": "code",
   "execution_count": 13,
   "metadata": {
    "collapsed": false
   },
   "outputs": [
    {
     "data": {
      "text/plain": [
       "([mean: -1089.41058, std: 16.24156, params: {'gamma': 0},\n",
       "  mean: -1089.41058, std: 16.24156, params: {'gamma': 0.1},\n",
       "  mean: -1089.41058, std: 16.24156, params: {'gamma': 0.2},\n",
       "  mean: -1089.41058, std: 16.24156, params: {'gamma': 0.3},\n",
       "  mean: -1089.41058, std: 16.24156, params: {'gamma': 0.5},\n",
       "  mean: -1089.41058, std: 16.24156, params: {'gamma': 0.7},\n",
       "  mean: -1089.41058, std: 16.24156, params: {'gamma': 1.0}],\n",
       " {'gamma': 0},\n",
       " -1089.4105811493012)"
      ]
     },
     "execution_count": 13,
     "metadata": {},
     "output_type": "execute_result"
    }
   ],
   "source": [
    "gsearch1.grid_scores_, gsearch1.best_params_, gsearch1.best_score_\n"
   ]
  },
  {
   "cell_type": "code",
   "execution_count": 14,
   "metadata": {
    "collapsed": false
   },
   "outputs": [
    {
     "data": {
      "text/plain": [
       "([mean: -1148.13320, std: 13.42451, params: {'subsample': 0.1, 'colsample_bytree': 0.1},\n",
       "  mean: -1111.55190, std: 9.80231, params: {'subsample': 0.3, 'colsample_bytree': 0.1},\n",
       "  mean: -1099.64609, std: 14.75859, params: {'subsample': 0.5, 'colsample_bytree': 0.1},\n",
       "  mean: -1093.85598, std: 13.54929, params: {'subsample': 0.7, 'colsample_bytree': 0.1},\n",
       "  mean: -1090.10481, std: 15.18286, params: {'subsample': 1.0, 'colsample_bytree': 0.1},\n",
       "  mean: -1152.85897, std: 11.64542, params: {'subsample': 0.1, 'colsample_bytree': 0.3},\n",
       "  mean: -1107.55706, std: 11.69247, params: {'subsample': 0.3, 'colsample_bytree': 0.3},\n",
       "  mean: -1096.14782, std: 15.75405, params: {'subsample': 0.5, 'colsample_bytree': 0.3},\n",
       "  mean: -1091.56627, std: 16.11151, params: {'subsample': 0.7, 'colsample_bytree': 0.3},\n",
       "  mean: -1090.70212, std: 17.21908, params: {'subsample': 1.0, 'colsample_bytree': 0.3},\n",
       "  mean: -1159.92324, std: 11.76469, params: {'subsample': 0.1, 'colsample_bytree': 0.5},\n",
       "  mean: -1111.50726, std: 10.25407, params: {'subsample': 0.3, 'colsample_bytree': 0.5},\n",
       "  mean: -1098.92246, std: 14.29303, params: {'subsample': 0.5, 'colsample_bytree': 0.5},\n",
       "  mean: -1097.05385, std: 10.99389, params: {'subsample': 0.7, 'colsample_bytree': 0.5},\n",
       "  mean: -1094.46614, std: 16.26435, params: {'subsample': 1.0, 'colsample_bytree': 0.5},\n",
       "  mean: -1167.31573, std: 16.21536, params: {'subsample': 0.1, 'colsample_bytree': 0.7},\n",
       "  mean: -1114.75323, std: 10.91189, params: {'subsample': 0.3, 'colsample_bytree': 0.7},\n",
       "  mean: -1101.36146, std: 14.31361, params: {'subsample': 0.5, 'colsample_bytree': 0.7},\n",
       "  mean: -1094.84912, std: 16.51198, params: {'subsample': 0.7, 'colsample_bytree': 0.7},\n",
       "  mean: -1095.66354, std: 17.69800, params: {'subsample': 1.0, 'colsample_bytree': 0.7},\n",
       "  mean: -1166.46964, std: 15.52809, params: {'subsample': 0.1, 'colsample_bytree': 1.0},\n",
       "  mean: -1110.34254, std: 7.83221, params: {'subsample': 0.3, 'colsample_bytree': 1.0},\n",
       "  mean: -1099.74641, std: 13.90479, params: {'subsample': 0.5, 'colsample_bytree': 1.0},\n",
       "  mean: -1096.91547, std: 14.49980, params: {'subsample': 0.7, 'colsample_bytree': 1.0},\n",
       "  mean: -1100.52907, std: 14.11492, params: {'subsample': 1.0, 'colsample_bytree': 1.0}],\n",
       " {'colsample_bytree': 0.1, 'subsample': 1.0},\n",
       " -1090.104808090873)"
      ]
     },
     "execution_count": 14,
     "metadata": {},
     "output_type": "execute_result"
    }
   ],
   "source": [
    "gsearch2.grid_scores_, gsearch2.best_params_, gsearch2.best_score_"
   ]
  },
  {
   "cell_type": "code",
   "execution_count": 15,
   "metadata": {
    "collapsed": false
   },
   "outputs": [
    {
     "data": {
      "text/plain": [
       "([mean: -1090.10481, std: 15.18286, params: {'reg_alpha': 1e-05},\n",
       "  mean: -1090.10481, std: 15.18286, params: {'reg_alpha': 0.0001},\n",
       "  mean: -1090.10481, std: 15.18286, params: {'reg_alpha': 0.001},\n",
       "  mean: -1090.10479, std: 15.18286, params: {'reg_alpha': 0.01},\n",
       "  mean: -1090.38870, std: 16.54664, params: {'reg_alpha': 0.1},\n",
       "  mean: -1090.39420, std: 16.47557, params: {'reg_alpha': 1},\n",
       "  mean: -1090.89361, std: 16.16859, params: {'reg_alpha': 10},\n",
       "  mean: -1089.94615, std: 16.89325, params: {'reg_alpha': 100},\n",
       "  mean: -1087.38430, std: 16.10153, params: {'reg_alpha': 1000}],\n",
       " {'reg_alpha': 1000},\n",
       " -1087.3843046641052)"
      ]
     },
     "execution_count": 15,
     "metadata": {},
     "output_type": "execute_result"
    }
   ],
   "source": [
    "gsearch3.grid_scores_, gsearch3.best_params_, gsearch3.best_score_"
   ]
  }
 ],
 "metadata": {
  "celltoolbar": "Edit Metadata",
  "kernelspec": {
   "display_name": "Python 2",
   "language": "python",
   "name": "python2"
  },
  "language_info": {
   "codemirror_mode": {
    "name": "ipython",
    "version": 2
   },
   "file_extension": ".py",
   "mimetype": "text/x-python",
   "name": "python",
   "nbconvert_exporter": "python",
   "pygments_lexer": "ipython2",
   "version": "2.7.12"
  }
 },
 "nbformat": 4,
 "nbformat_minor": 1
}
